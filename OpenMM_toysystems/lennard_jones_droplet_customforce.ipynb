{
 "cells": [
  {
   "cell_type": "markdown",
   "metadata": {},
   "source": [
    "# Info\n",
    "\n",
    "In this notebook we use the Lennard-Jones toysystem we created in `lennard_jones_toysystem.ipynb` to play around a bit and learn how to create a `CustomExternalForce`. \n",
    "\n",
    "## Targets\n",
    "* create a \"droplet\" of Lennard-Jones particles\n",
    "* run a normal simulation\n",
    "* add a spherical constraint using `CustomExternalForce` and run a restraint simulation"
   ]
  },
  {
   "cell_type": "markdown",
   "metadata": {},
   "source": [
    "# Intialization"
   ]
  },
  {
   "cell_type": "code",
   "execution_count": null,
   "metadata": {},
   "outputs": [],
   "source": [
    "from simtk import openmm as mm\n",
    "from simtk.openmm import app\n",
    "from simtk.unit import *\n",
    "import numpy as np\n",
    "\n",
    "import mdtraj\n",
    "import nglview\n",
    "\n",
    "import matplotlib.pyplot as plt\n",
    "%matplotlib inline"
   ]
  },
  {
   "cell_type": "markdown",
   "metadata": {},
   "source": [
    "# functions to setup the simulation\n",
    "\n",
    "We define different functions to create the simulation. This way we can focus on the business logic later on and do not have a overwhelming part of repeating implementation code.\n",
    "\n",
    "**Functions:**\n",
    "* `initialize_system(n_particles, mass, box_size)` <br>\n",
    "    Function to initialize a Lennard Jones system.\n",
    "* `create_NonBonndedForce(n_particles, sigma, epsilon, charge)` <br>\n",
    "    Add a NonbondedForce to the system.\n",
    "* `create_topology(n_particles, box_size)` <br>\n",
    "    Function to create the toplogy of the Lennard Jones system."
   ]
  },
  {
   "cell_type": "code",
   "execution_count": null,
   "metadata": {},
   "outputs": [],
   "source": [
    "def initialize_system(n_particles, mass, box_size):\n",
    "    \"\"\"\n",
    "    Function to initialize a Lennard Jones system.\n",
    "    \n",
    "    Parameters\n",
    "    ----------\n",
    "    n_particles : int\n",
    "        Number of particles in the system\n",
    "    mass : Quantity\n",
    "        mass of particle\n",
    "    box_size : Quantity\n",
    "        Box length\n",
    "        \n",
    "    Returns\n",
    "    -------\n",
    "    system : simtk.openmm.openmm.System\n",
    "    \"\"\"\n",
    "    \n",
    "    box_vectors = np.diag([box_size/angstrom for i in range(3)])*angstrom\n",
    "\n",
    "    # Create a system and add particles to it\n",
    "    system = mm.System()\n",
    "    for index in range(n_particles):\n",
    "        # Particles are added one at a time\n",
    "        # Their indices in the System will correspond with their indices in the Force objects we will add later\n",
    "        system.addParticle(mass)\n",
    "        \n",
    "    box_vectors = np.diag([box_size for i in range(3)])\n",
    "    system.setDefaultPeriodicBoxVectors(*box_vectors)\n",
    "\n",
    "    return system"
   ]
  },
  {
   "cell_type": "code",
   "execution_count": null,
   "metadata": {},
   "outputs": [],
   "source": [
    "def create_NonBonndedForce(n_particles, sigma, epsilon, charge):\n",
    "    \"\"\"\n",
    "    Add a NonbondedForce to the system.\n",
    "    \n",
    "    Parameters\n",
    "    ----------\n",
    "    n_particles : int\n",
    "        Number of particles in the system.\n",
    "    sigma : float, optional\n",
    "        Sigma of the Lennard-Jones potential.\n",
    "    epsilon : float, optional\n",
    "        Epsilon of the Lennard-Jones potential. Default is `0`.\n",
    "    charge : float, optional\n",
    "        Charge of the particles. Default is `0`.\n",
    "    Returns\n",
    "    -------\n",
    "    force : simtk.openmm.openmm.NonbondedForce\n",
    "        NonbondedForce assigned to all particles\n",
    "    \"\"\"\n",
    "    # Add Lennard-Jones interactions using a NonbondedForce\n",
    "    force = mm.NonbondedForce()\n",
    "    force.setNonbondedMethod(mm.NonbondedForce.CutoffPeriodic)\n",
    "\n",
    "    # all particles must have parameters assigned for the NonbondedForce\n",
    "    for index in range(n_particles): \n",
    "        # Particles are assigned properties in the same order as they appear in the System object\n",
    "        force.addParticle(charge, sigma, epsilon)\n",
    "    \n",
    "    force.setCutoffDistance(3.0 * sigma) # set cutoff (truncation) distance at 3*sigma\n",
    "    force.setUseSwitchingFunction(True) # use a smooth switching function to avoid force discontinuities at cutoff\n",
    "    force.setSwitchingDistance(2.5 * sigma) # turn on switch at 2.5*sigma\n",
    "    force.setUseDispersionCorrection(True) # use long-range isotropic dispersion correction\n",
    "  \n",
    "    return force"
   ]
  },
  {
   "cell_type": "code",
   "execution_count": null,
   "metadata": {},
   "outputs": [],
   "source": [
    "def create_topology(n_particles, box_size):\n",
    "    \"\"\"\n",
    "    Function to create the toplogy of the Lennard Jones system.\n",
    "    \n",
    "    Parameters\n",
    "    ----------\n",
    "    n_particles : int\n",
    "        Number of particles in the system\n",
    "    \n",
    "    Returns\n",
    "    -------\n",
    "    top : simtk.openmm.app.topology.Topology\n",
    "        Topology for the system\n",
    "    \"\"\"\n",
    "    top = app.Topology()\n",
    "    chain = top.addChain()\n",
    "    for i in range(n_particles):\n",
    "        residue = top.addResidue(name='Ar', chain=chain, id=i)\n",
    "        top.addAtom('Ar',element=app.Element.getBySymbol('Ar') , residue=residue)\n",
    "        \n",
    "    box_vectors = np.diag([box_size/angstrom for i in range(3)])*angstrom\n",
    "    top.setPeriodicBoxVectors(box_vectors)\n",
    "    \n",
    "    return top"
   ]
  },
  {
   "cell_type": "markdown",
   "metadata": {},
   "source": [
    "## Visualization\n",
    "\n",
    "Here are just some functions to visualize our system later on. You can skip this part.\n",
    "\n",
    "* `boxvectors2length(box_vectors)` <br>\n",
    "    Converts box_vectors to lengths and angles.\n",
    "* `viz_traj(traj)` <br>\n",
    "    Creates a nglview object"
   ]
  },
  {
   "cell_type": "code",
   "execution_count": null,
   "metadata": {},
   "outputs": [],
   "source": [
    "def boxvectors2length(box_vectors):\n",
    "    \"\"\"\n",
    "    Converts box_vectors to lengths and angles.\n",
    "    \n",
    "    Parameters\n",
    "    ----------\n",
    "    box_vectors : Quantity\n",
    "        Box vectors\n",
    "    \n",
    "    Returns\n",
    "    -------\n",
    "    box_length : Quantity\n",
    "        Box length (a, b, c)\n",
    "    box_angles : Quantity\n",
    "        Box angles (alpha, beta, gamma)\n",
    "    \"\"\"\n",
    "    ((lx, _ , _  ),\n",
    "     (xy, ly, _  ), \n",
    "     (xz, yz, lz))   = ( box_vectors )\n",
    "    \n",
    "    a = lx\n",
    "    b = sqrt(ly**2 + xy**2)\n",
    "    c = sqrt(lz**2 + xz**2 + yz**2)\n",
    "    alpha = acos(( xy*xz + ly*yz ) / (b * c)).in_units_of(degree)\n",
    "    beta  = acos(xz / c).in_units_of(degree)\n",
    "    gamma = acos(yz / b).in_units_of(degree)\n",
    "    return Quantity((a, b, c)), Quantity((alpha, beta, gamma))"
   ]
  },
  {
   "cell_type": "code",
   "execution_count": null,
   "metadata": {},
   "outputs": [],
   "source": [
    "def viz_traj(traj):\n",
    "    \"Creates a nglview object.\"\n",
    "    view = nglview.show_mdtraj(traj, use_box=True) # gui=True for more options\n",
    "\n",
    "    view.add_spacefill('all')\n",
    "    view.add_unitcell()\n",
    "    # update camera type\n",
    "    view.camera = 'orthographic'\n",
    "\n",
    "    view.center()\n",
    "    return view"
   ]
  },
  {
   "cell_type": "markdown",
   "metadata": {},
   "source": [
    "# Input\n",
    "\n",
    "First of all, we have to define our input again.\n",
    "\n",
    "> Note: This time we also define `space` as an variable for how much space should be around our \"droplet\"."
   ]
  },
  {
   "cell_type": "code",
   "execution_count": null,
   "metadata": {},
   "outputs": [],
   "source": [
    "# Force field\n",
    "mass = 39.9 * amu\n",
    "charge = 0.0 * elementary_charge\n",
    "sigma = 3.4 * angstroms\n",
    "epsilon = 0.238 * kilocalories_per_mole\n",
    "\n",
    "# System\n",
    "n_particles = 256\n",
    "box_size = 75 * angstrom\n",
    "space = 10 * angstrom # space around the system\n",
    "\n",
    "# MD settings\n",
    "timestep = 1.0 * femtoseconds"
   ]
  },
  {
   "cell_type": "markdown",
   "metadata": {},
   "source": [
    "## generate positions\n",
    "\n",
    "We have to define the positions of our atoms. To create a droplet we go the easy way to only define random positions in a subset of our box."
   ]
  },
  {
   "cell_type": "code",
   "execution_count": null,
   "metadata": {},
   "outputs": [],
   "source": [
    "positions = (box_size - space*2) * np.random.rand(n_particles, 3)  + space"
   ]
  },
  {
   "cell_type": "markdown",
   "metadata": {},
   "source": [
    "# Normal Simulation\n",
    "\n",
    "Let's run a normal simulation as reference to see what's going on."
   ]
  },
  {
   "cell_type": "code",
   "execution_count": null,
   "metadata": {},
   "outputs": [],
   "source": [
    "# define a system\n",
    "system = initialize_system(n_particles, mass, box_size)\n",
    "\n",
    "# create a NonbondedForce (with charge=0 -> only Lennard-Jones interactions)\n",
    "force = create_NonBonndedForce(n_particles, sigma, epsilon, charge)\n",
    "force_index = system.addForce(force) \n",
    "\n",
    "# define integrator\n",
    "integrator = mm.VerletIntegrator(timestep)\n",
    "\n",
    "# create topology\n",
    "topology = create_topology(n_particles, box_size)\n",
    "\n",
    "# define a simulation context\n",
    "simulation = app.Simulation(topology=topology, system=system, integrator=integrator)"
   ]
  },
  {
   "cell_type": "markdown",
   "metadata": {},
   "source": [
    "Set the starting positions"
   ]
  },
  {
   "cell_type": "code",
   "execution_count": null,
   "metadata": {},
   "outputs": [],
   "source": [
    "simulation.context.setPositions(positions)"
   ]
  },
  {
   "cell_type": "markdown",
   "metadata": {},
   "source": [
    "Visualize the system."
   ]
  },
  {
   "cell_type": "code",
   "execution_count": null,
   "metadata": {},
   "outputs": [],
   "source": [
    "mdtraj_topology = mdtraj.Topology.from_openmm(simulation.topology)\n",
    "unitcell_lengths, unitcell_angles = boxvectors2length(simulation.topology.getPeriodicBoxVectors())\n",
    "traj = mdtraj.Trajectory(positions/nanometers, mdtraj_topology,\n",
    "                         unitcell_lengths=unitcell_lengths.value_in_unit(nanometer),\n",
    "                         unitcell_angles=unitcell_angles.value_in_unit(degree))\n",
    "\n",
    "viz_traj(traj)"
   ]
  },
  {
   "cell_type": "markdown",
   "metadata": {},
   "source": [
    "As you can see, we defined atoms in a inner part of the box with a spacer around them."
   ]
  },
  {
   "cell_type": "markdown",
   "metadata": {},
   "source": [
    "## Minimize\n",
    "\n",
    "We need to minimize the system to avoid overlapping atoms."
   ]
  },
  {
   "cell_type": "code",
   "execution_count": null,
   "metadata": {},
   "outputs": [],
   "source": [
    "simulation.minimizeEnergy()"
   ]
  },
  {
   "cell_type": "markdown",
   "metadata": {},
   "source": [
    "Visualization."
   ]
  },
  {
   "cell_type": "code",
   "execution_count": null,
   "metadata": {},
   "outputs": [],
   "source": [
    "tmp_positions = simulation.context.getState(getPositions=True).getPositions()\n",
    "unitcell_lengths, unitcell_angles = boxvectors2length(simulation.topology.getPeriodicBoxVectors())\n",
    "traj = mdtraj.Trajectory(tmp_positions/nanometers, mdtraj_topology,\n",
    "                        unitcell_lengths=unitcell_lengths.value_in_unit(nanometer),\n",
    "                        unitcell_angles=unitcell_angles.value_in_unit(degree))\n",
    "\n",
    "viz_traj(traj)"
   ]
  },
  {
   "cell_type": "markdown",
   "metadata": {},
   "source": [
    "## simulation\n",
    "\n",
    "Let's run the simulation.\n",
    "\n",
    "We first add `reporters`, then create velocities for a given `temperature` and run the simulation for a few steps."
   ]
  },
  {
   "cell_type": "code",
   "execution_count": null,
   "metadata": {},
   "outputs": [],
   "source": [
    "#add reporters\n",
    "simulation.reporters.append(app.DCDReporter('trajectory.droplet.normal.dcd', 100))\n",
    "simulation.reporters.append(app.StateDataReporter('thermo.droplet.normal.csv', 100,\n",
    "                                                  step=True,\n",
    "                                                  potentialEnergy=True,\n",
    "                                                  kineticEnergy=True,\n",
    "                                                  totalEnergy=True,\n",
    "                                                  temperature=True))"
   ]
  },
  {
   "cell_type": "code",
   "execution_count": null,
   "metadata": {},
   "outputs": [],
   "source": [
    "# set velocities\n",
    "simulation.context.setVelocitiesToTemperature(300 * kelvin)"
   ]
  },
  {
   "cell_type": "code",
   "execution_count": null,
   "metadata": {},
   "outputs": [],
   "source": [
    "simulation.step(10000)"
   ]
  },
  {
   "cell_type": "markdown",
   "metadata": {},
   "source": [
    "## visualize\n",
    "\n",
    "Let's have a look what happened."
   ]
  },
  {
   "cell_type": "code",
   "execution_count": null,
   "metadata": {},
   "outputs": [],
   "source": [
    "mdtraj_topology = mdtraj.Topology.from_openmm(simulation.topology)\n",
    "traj = mdtraj.load_dcd('trajectory.droplet.normal.dcd', mdtraj_topology)\n",
    "view = viz_traj(traj)\n",
    "view"
   ]
  },
  {
   "cell_type": "markdown",
   "metadata": {},
   "source": [
    "As expected argon behaves like a gas at 300 Kelvin and spread across the box."
   ]
  },
  {
   "cell_type": "markdown",
   "metadata": {},
   "source": [
    "# Spherical potential\n",
    "\n",
    "Let's add a spherical potential.\n",
    "\n",
    "First we repeat the steps from the previous example."
   ]
  },
  {
   "cell_type": "code",
   "execution_count": null,
   "metadata": {},
   "outputs": [],
   "source": [
    "# define a system\n",
    "system = initialize_system(n_particles, mass, box_size)\n",
    "\n",
    "# create a NonbondedForce (with charge=0 -> only Lennard-Jones interactions)\n",
    "force = create_NonBonndedForce(n_particles, sigma, epsilon, charge)\n",
    "force_index = system.addForce(force) \n",
    "\n",
    "# define integrator\n",
    "integrator = mm.VerletIntegrator(timestep)\n",
    "\n",
    "# create topology\n",
    "topology = create_topology(n_particles, box_size)"
   ]
  },
  {
   "cell_type": "markdown",
   "metadata": {},
   "source": [
    "## Add a spherical constraint\n",
    "\n",
    "Now we want to add an extra `force` to our system to prevent this.\n",
    "\n",
    "We can define a force following a custom equation by using `openmm.CustomExternalForce(equation)`.\n",
    "`equation` is just a plain expression of the energy.\n",
    "\n",
    "It may depend the on `x`, `y` and `z` coordinate and any other arbitrary parameter defined. These parameter can be added with `addPerParticleParameter()`and `addGlobalParameter()`. Variables can be placed in separate expressions using `;` to end the previous one.\n",
    "\n",
    "Expressions may involve the operators `+` (add), `-` (subtract), `*` (multiply), `/` (divide), and `^` (power), and the following functions: `sqrt`, `exp`, `log`, `sin`, `cos`, `sec`, `csc`, `tan`, `cot`, `asin`, `acos`, `atan`, `sinh`, `cosh`, `tanh`, `erf`, `erfc`, `step`. All trigonometric functions are defined in `radians`, and `log` is the natural logarithm. `step(x) = 0` if `x` is less than `0`, `1` otherwise."
   ]
  },
  {
   "cell_type": "code",
   "execution_count": null,
   "metadata": {},
   "outputs": [],
   "source": [
    "force = mm.CustomExternalForce(\n",
    "    '10*max(0, r-{r0})^2; r=sqrt((x-{x0})^2+(y-{x0})^2+(z-{z0})^2)'.format(\n",
    "        r0=2.0,\n",
    "        x0=box_size/2.0/nanometer,\n",
    "        y0=box_size/2.0/nanometer,\n",
    "        z0=box_size/2.0/nanometer\n",
    "    )\n",
    ")\n",
    "for i in range(system.getNumParticles()):\n",
    "    force.addParticle(i, ())\n",
    "system.addForce(force)"
   ]
  },
  {
   "cell_type": "markdown",
   "metadata": {},
   "source": [
    "If one does not want to define all parameters in advance,\n",
    "one can just implement parameters as variables.\n",
    "\n",
    "* for per particle parameter with `force.addPerParticleParameter()`.\n",
    "* for global parameters use `force.addGlobalParameter()`.\n",
    "\n",
    "```python\n",
    "force = mm.CustomExternalForce('K*max(0, r-r0)^2; r=sqrt((x-x0)^2+(y-x0)^2+(z-z0)^2)')\n",
    "# define extra variables\n",
    "force.addPerParticleParameter('K')\n",
    "force.addPerParticleParameter('r0')\n",
    "force.addPerParticleParameter('x0')\n",
    "force.addPerParticleParameter('y0')\n",
    "force.addPerParticleParameter('z0')\n",
    "\n",
    "for i in range(system.getNumParticles()):\n",
    "    # now use the parameters with units in the order as defined previously (K, r0, x0, y0, z0)\n",
    "    force.addParticle(i, (10*kilojoule_per_mole, 2*nanometer, box_size/2.0, box_size/2.0, box_size/2.0))\n",
    "system.addForce(force)\n",
    "```"
   ]
  },
  {
   "cell_type": "markdown",
   "metadata": {},
   "source": [
    "## Continue as in normal ..."
   ]
  },
  {
   "cell_type": "code",
   "execution_count": null,
   "metadata": {},
   "outputs": [],
   "source": [
    "# define a simulation context\n",
    "simulation = app.Simulation(topology=topology, system=system, integrator=integrator)"
   ]
  },
  {
   "cell_type": "code",
   "execution_count": null,
   "metadata": {},
   "outputs": [],
   "source": [
    "# set positions\n",
    "simulation.context.setPositions(positions)\n",
    "# set velocities\n",
    "simulation.context.setVelocitiesToTemperature(300 * kelvin)"
   ]
  },
  {
   "cell_type": "code",
   "execution_count": null,
   "metadata": {},
   "outputs": [],
   "source": [
    "# minimize\n",
    "simulation.minimizeEnergy()"
   ]
  },
  {
   "cell_type": "code",
   "execution_count": null,
   "metadata": {},
   "outputs": [],
   "source": [
    "# add reporters\n",
    "simulation.reporters.append(app.DCDReporter('trajectory.droplet.spherical.dcd', 100))\n",
    "simulation.reporters.append(app.StateDataReporter('thermo.droplet.spherical.csv', 100,\n",
    "                                                  step=True,\n",
    "                                                  potentialEnergy=True,\n",
    "                                                  kineticEnergy=True,\n",
    "                                                  totalEnergy=True,\n",
    "                                                  temperature=True))"
   ]
  },
  {
   "cell_type": "code",
   "execution_count": null,
   "metadata": {},
   "outputs": [],
   "source": [
    "simulation.step(10000)"
   ]
  },
  {
   "cell_type": "markdown",
   "metadata": {},
   "source": [
    "## Visualize\n",
    "\n",
    "Let's have a look into what we created."
   ]
  },
  {
   "cell_type": "code",
   "execution_count": null,
   "metadata": {},
   "outputs": [],
   "source": [
    "mdtraj_topology = mdtraj.Topology.from_openmm(simulation.topology)\n",
    "traj = mdtraj.load_dcd('trajectory.droplet.spherical.dcd', mdtraj_topology)\n",
    "view = viz_traj(traj)\n",
    "view"
   ]
  },
  {
   "cell_type": "code",
   "execution_count": null,
   "metadata": {},
   "outputs": [],
   "source": []
  }
 ],
 "metadata": {
  "kernelspec": {
   "display_name": "Python 3",
   "language": "python",
   "name": "python3"
  },
  "language_info": {
   "codemirror_mode": {
    "name": "ipython",
    "version": 3
   },
   "file_extension": ".py",
   "mimetype": "text/x-python",
   "name": "python",
   "nbconvert_exporter": "python",
   "pygments_lexer": "ipython3",
   "version": "3.6.7"
  },
  "toc": {
   "base_numbering": 1,
   "nav_menu": {},
   "number_sections": true,
   "sideBar": true,
   "skip_h1_title": false,
   "title_cell": "Table of Contents",
   "title_sidebar": "Contents",
   "toc_cell": false,
   "toc_position": {},
   "toc_section_display": true,
   "toc_window_display": false
  }
 },
 "nbformat": 4,
 "nbformat_minor": 2
}
