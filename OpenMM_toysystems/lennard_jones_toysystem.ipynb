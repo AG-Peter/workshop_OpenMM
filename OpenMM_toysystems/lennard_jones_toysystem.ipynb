{
 "cells": [
  {
   "cell_type": "markdown",
   "metadata": {
    "slideshow": {
     "slide_type": "slide"
    }
   },
   "source": [
    "# Info\n",
    "\n",
    "Argon Jennard-Jones systems\n",
    "\n",
    "## Targets\n",
    "* create a toy system with python.\n",
    "    * create a `system`\n",
    "    * create a `force`\n",
    "    * create a `topology`"
   ]
  },
  {
   "cell_type": "code",
   "execution_count": null,
   "metadata": {
    "slideshow": {
     "slide_type": "skip"
    }
   },
   "outputs": [],
   "source": [
    "from simtk import openmm as mm\n",
    "from simtk.openmm import app\n",
    "from simtk.unit import *\n",
    "import numpy as np\n",
    "\n",
    "import matplotlib.pyplot as plt\n",
    "%matplotlib inline"
   ]
  },
  {
   "cell_type": "markdown",
   "metadata": {
    "slideshow": {
     "slide_type": "slide"
    }
   },
   "source": [
    "# Input"
   ]
  },
  {
   "cell_type": "markdown",
   "metadata": {
    "slideshow": {
     "slide_type": "fragment"
    }
   },
   "source": [
    "Let's define us an argon system."
   ]
  },
  {
   "cell_type": "markdown",
   "metadata": {
    "slideshow": {
     "slide_type": "fragment"
    }
   },
   "source": [
    "## Interactions\n",
    "\n",
    "First, we need to define some general parameters like `mass`, `charge` and the Lennard-Jones parameters `sigma` and `epsilon`."
   ]
  },
  {
   "cell_type": "code",
   "execution_count": null,
   "metadata": {
    "slideshow": {
     "slide_type": "fragment"
    }
   },
   "outputs": [],
   "source": [
    "mass = 39.9 * amu\n",
    "charge = 0.0 * elementary_charge\n",
    "sigma = 3.4 * angstroms\n",
    "epsilon = 0.238 * kilocalories_per_mole"
   ]
  },
  {
   "cell_type": "markdown",
   "metadata": {
    "slideshow": {
     "slide_type": "fragment"
    }
   },
   "source": [
    "## System parameter\n",
    "\n",
    "Secondly, we need to define the basics of our system, namely, the volume via `box_size` and the number of particles `n_particles`."
   ]
  },
  {
   "cell_type": "code",
   "execution_count": null,
   "metadata": {
    "slideshow": {
     "slide_type": "fragment"
    }
   },
   "outputs": [],
   "source": [
    "n_particles = 512\n",
    "box_size = 50 * angstrom"
   ]
  },
  {
   "cell_type": "markdown",
   "metadata": {
    "slideshow": {
     "slide_type": "slide"
    }
   },
   "source": [
    "# Build the simulation\n",
    "\n",
    "Let's build our `Simulation` object.\n",
    "\n",
    "For this we need a `system`, `integrator` and `toplogy`."
   ]
  },
  {
   "cell_type": "markdown",
   "metadata": {
    "slideshow": {
     "slide_type": "subslide"
    }
   },
   "source": [
    "## Create the system\n",
    "\n",
    "The first step in defining a `system` is to define particles with a given `mass` in the system.\n",
    "\n",
    "We can add these with `system.addParticle(mass)`."
   ]
  },
  {
   "cell_type": "code",
   "execution_count": null,
   "metadata": {
    "slideshow": {
     "slide_type": "fragment"
    }
   },
   "outputs": [],
   "source": [
    "# Create a system and add particles to it\n",
    "system = mm.System()\n",
    "for index in range(n_particles):\n",
    "    # Particles are added one at a time\n",
    "    # Their indices in the System will correspond with their indices in the Force objects we will add later\n",
    "    system.addParticle(mass)"
   ]
  },
  {
   "cell_type": "markdown",
   "metadata": {
    "slideshow": {
     "slide_type": "subslide"
    }
   },
   "source": [
    "## Create the box\n",
    "\n",
    "If we do not want to do our simulation in a non-periodic box, we need to define the box it self.\n",
    "\n",
    "This is be done by defining the `box_vectors` spanning the box."
   ]
  },
  {
   "cell_type": "code",
   "execution_count": null,
   "metadata": {
    "slideshow": {
     "slide_type": "fragment"
    }
   },
   "outputs": [],
   "source": [
    "box_vectors = np.diag([box_size/angstrom for i in range(3)])*angstrom\n",
    "system.setDefaultPeriodicBoxVectors(*box_vectors)"
   ]
  },
  {
   "cell_type": "markdown",
   "metadata": {
    "slideshow": {
     "slide_type": "subslide"
    }
   },
   "source": [
    "## Define interactions\n",
    "\n",
    "If we do not want to simulate an ideal gas, we need some interactions in our system.\n",
    "\n",
    "We can add non-bonded interactions by using `openmm.NonbondedForce()`. This will create a `force` with Lennard-Jones **and** Coulomb interactions.\n",
    "\n",
    "We have to add **all** particles to the force. After we have define other parameters we can add this force to our system with `system.addForce(force)`."
   ]
  },
  {
   "cell_type": "code",
   "execution_count": null,
   "metadata": {
    "slideshow": {
     "slide_type": "fragment"
    }
   },
   "outputs": [],
   "source": [
    "# Add Lennard-Jones interactions using a NonbondedForce\n",
    "force = mm.NonbondedForce()\n",
    "force.setNonbondedMethod(mm.NonbondedForce.CutoffPeriodic)"
   ]
  },
  {
   "cell_type": "code",
   "execution_count": null,
   "metadata": {
    "slideshow": {
     "slide_type": "fragment"
    }
   },
   "outputs": [],
   "source": [
    "# all particles must have parameters assigned for the NonbondedForce\n",
    "for index in range(n_particles): \n",
    "    # Particles are assigned properties in the same order as they appear in the System object\n",
    "    force.addParticle(charge, sigma, epsilon)"
   ]
  },
  {
   "cell_type": "code",
   "execution_count": null,
   "metadata": {
    "slideshow": {
     "slide_type": "fragment"
    }
   },
   "outputs": [],
   "source": [
    "force.setCutoffDistance(3.0 * sigma) # set cutoff (truncation) distance at 3*sigma\n",
    "force.setUseSwitchingFunction(True) # use a smooth switching function to avoid force discontinuities at cutoff\n",
    "force.setSwitchingDistance(2.5 * sigma) # turn on switch at 2.5*sigma\n",
    "force.setUseDispersionCorrection(True) # use long-range isotropic dispersion correction\n",
    "\n",
    "force_index = system.addForce(force) # system takes ownership of the NonbondedForce object"
   ]
  },
  {
   "cell_type": "markdown",
   "metadata": {
    "slideshow": {
     "slide_type": "subslide"
    }
   },
   "source": [
    "## create an integrator\n",
    "\n",
    "As we want to do a simulation and update our positions and velocities we need to add an `integrator` to our simulation.\n",
    "\n",
    "In this case, we will use a the **leap-frog integrator** by using `openmm.VerletIntegrator(timestep)`."
   ]
  },
  {
   "cell_type": "code",
   "execution_count": null,
   "metadata": {
    "slideshow": {
     "slide_type": "fragment"
    }
   },
   "outputs": [],
   "source": [
    "# Create an integrator\n",
    "timestep = 1.0 * femtoseconds\n",
    "integrator = mm.VerletIntegrator(timestep)"
   ]
  },
  {
   "cell_type": "markdown",
   "metadata": {
    "slideshow": {
     "slide_type": "subslide"
    }
   },
   "source": [
    "## Create the toplogy"
   ]
  },
  {
   "cell_type": "markdown",
   "metadata": {
    "slideshow": {
     "slide_type": "fragment"
    }
   },
   "source": [
    "At this point we can just create a `context` via \n",
    "```python\n",
    "context = openmm.Context(system, integrator, platform)\n",
    "```\n",
    "\n",
    "but since we want to use the `Simulation` object (for all the nice features it comes with) we first have to create a `Topology`.\n",
    "\n",
    "It needs a `chain` and a `residue` to add an atom to it.\n",
    "\n",
    "The following code will create 1 `chain` and add all atoms a single `residues` to the `Topology`."
   ]
  },
  {
   "cell_type": "code",
   "execution_count": null,
   "metadata": {
    "slideshow": {
     "slide_type": "fragment"
    }
   },
   "outputs": [],
   "source": [
    "top = app.Topology()\n",
    "chain = top.addChain()\n",
    "for i in range(n_particles):\n",
    "    residue = top.addResidue(name='Ar', chain=chain, id=i)\n",
    "    top.addAtom('Ar',element=app.Element.getBySymbol('Ar') , residue=residue)\n",
    "top.setPeriodicBoxVectors(box_vectors)\n",
    "print(top) "
   ]
  },
  {
   "cell_type": "markdown",
   "metadata": {
    "slideshow": {
     "slide_type": "subslide"
    }
   },
   "source": [
    "## create the simulation\n",
    "\n",
    "Now we have all ingredients to create a `Simulation` object.\n",
    "\n",
    "Note: the `integrator` is bound to the `Simulation` object and can **not** be reused in an other object. Hence, it has to be recreated."
   ]
  },
  {
   "cell_type": "code",
   "execution_count": null,
   "metadata": {
    "slideshow": {
     "slide_type": "fragment"
    }
   },
   "outputs": [],
   "source": [
    "simulation = app.Simulation(topology=top, system=system, integrator=integrator)"
   ]
  },
  {
   "cell_type": "markdown",
   "metadata": {
    "slideshow": {
     "slide_type": "subslide"
    }
   },
   "source": [
    "## Define starting positions of the Lennard-Jones particles\n",
    "\n",
    "Of cause we need positions to describe our system, as we have no idea about how a gas looks like, we create them as random positions using `np.random.rand(n_particles, 3) ` to create a uniform distribution of particles.\n",
    "\n",
    "Note: we have to scale it to the box size as we get numbers between `0` to `1`.\n",
    "\n",
    "We can then set the coordinates of our simulation using `simulation.context.setPositions(positions)`."
   ]
  },
  {
   "cell_type": "code",
   "execution_count": null,
   "metadata": {
    "slideshow": {
     "slide_type": "fragment"
    }
   },
   "outputs": [],
   "source": [
    "positions = box_size * np.random.rand(n_particles, 3) \n",
    "positions"
   ]
  },
  {
   "cell_type": "code",
   "execution_count": null,
   "metadata": {
    "slideshow": {
     "slide_type": "fragment"
    }
   },
   "outputs": [],
   "source": [
    "simulation.context.setPositions(positions)"
   ]
  },
  {
   "cell_type": "markdown",
   "metadata": {
    "slideshow": {
     "slide_type": "slide"
    }
   },
   "source": [
    "# Run the simulation\n",
    "\n",
    "Now we are ready to go to do a simulation.\n",
    "\n",
    "But, there are a few things which have to be done first.\n",
    "* minimize the system\n",
    "* write output\n",
    "* set velocities"
   ]
  },
  {
   "cell_type": "markdown",
   "metadata": {
    "slideshow": {
     "slide_type": "subslide"
    }
   },
   "source": [
    "## Minimize\n",
    "\n",
    "We have to minimize the system to avoid an overlap of atoms."
   ]
  },
  {
   "cell_type": "code",
   "execution_count": null,
   "metadata": {
    "slideshow": {
     "slide_type": "fragment"
    }
   },
   "outputs": [],
   "source": [
    "simulation.minimizeEnergy()"
   ]
  },
  {
   "cell_type": "markdown",
   "metadata": {
    "slideshow": {
     "slide_type": "subslide"
    }
   },
   "source": [
    "## Add reporter for the output\n",
    "\n",
    "We have to add `reporters` to the `simulation` to generate output otherwise we can simulate the system but wont be able to follow it. You can easily add `reporters` by `append` them to the list `simulation.reporters`."
   ]
  },
  {
   "cell_type": "code",
   "execution_count": null,
   "metadata": {
    "slideshow": {
     "slide_type": "fragment"
    }
   },
   "outputs": [],
   "source": [
    "simulation.reporters.append(app.StateDataReporter('thermo.argon.csv', 100,\n",
    "                                                  step=True,\n",
    "                                                  potentialEnergy=True,\n",
    "                                                  kineticEnergy=True,\n",
    "                                                  totalEnergy=True,\n",
    "                                                  temperature=True,\n",
    "                                                 ))"
   ]
  },
  {
   "cell_type": "code",
   "execution_count": null,
   "metadata": {
    "slideshow": {
     "slide_type": "fragment"
    }
   },
   "outputs": [],
   "source": [
    "simulation.reporters.append(app.DCDReporter(\"trajectory.argon.dcd\", 100, enforcePeriodicBox=True))"
   ]
  },
  {
   "cell_type": "markdown",
   "metadata": {
    "slideshow": {
     "slide_type": "subslide"
    }
   },
   "source": [
    "## set velocities\n",
    "\n",
    "We want to set a starting temperature for our simulation. We can do this by either using `simulation.context.setVelocitiesT(velocities)` or `simulation.context.setVelocitiesToTemperature(temperature)`. The first uses a `(n_particles, 3)` array and sets these velocities the later creates velocities for a given `temperature`."
   ]
  },
  {
   "cell_type": "code",
   "execution_count": null,
   "metadata": {
    "slideshow": {
     "slide_type": "fragment"
    }
   },
   "outputs": [],
   "source": [
    "simulation.context.setVelocitiesToTemperature(300 * kelvin)"
   ]
  },
  {
   "cell_type": "markdown",
   "metadata": {
    "slideshow": {
     "slide_type": "subslide"
    }
   },
   "source": [
    "## Run the simulation\n",
    "\n",
    "Now, we can finally run the simulation by using `simulation.step(n_steps)` to run it for `n_steps`."
   ]
  },
  {
   "cell_type": "code",
   "execution_count": null,
   "metadata": {
    "slideshow": {
     "slide_type": "fragment"
    }
   },
   "outputs": [],
   "source": [
    "simulation.step(10000)"
   ]
  },
  {
   "cell_type": "markdown",
   "metadata": {
    "slideshow": {
     "slide_type": "slide"
    }
   },
   "source": [
    "# Visualize the simulation\n",
    "\n",
    "This part is now no longer about simulation it self but just about a quick visualization in the `jupyter-notebook`.\n",
    "Of cause you can also use your favorite viewer to have a look at the trajectory.\n",
    "\n",
    "e.g for VMD:\n",
    "```tcl\n",
    "vmd > set n_particles 512\n",
    "vmd > mol new atoms ${n_particles}\n",
    "vmd > mol representation VDW 1.0 12\n",
    "vmd > mol addrep top\n",
    "vmd > mol addfile trajectory.argon.dcd waitfor all\n",
    "```"
   ]
  },
  {
   "cell_type": "markdown",
   "metadata": {
    "slideshow": {
     "slide_type": "subslide"
    }
   },
   "source": [
    "Load `mdtraj` and `nglview` to load the trajectory and render it."
   ]
  },
  {
   "cell_type": "code",
   "execution_count": null,
   "metadata": {
    "slideshow": {
     "slide_type": "fragment"
    }
   },
   "outputs": [],
   "source": [
    "import mdtraj\n",
    "import nglview"
   ]
  },
  {
   "cell_type": "markdown",
   "metadata": {
    "slideshow": {
     "slide_type": "fragment"
    }
   },
   "source": [
    "Load the trajectory.\n",
    "\n",
    "Note: we can use `mdtraj.Topology.from_openmm(simulation.topology)` to directly get the trajectory from the OpenMM `simulation` object."
   ]
  },
  {
   "cell_type": "code",
   "execution_count": null,
   "metadata": {
    "slideshow": {
     "slide_type": "fragment"
    }
   },
   "outputs": [],
   "source": [
    "mdtraj_topology = mdtraj.Topology.from_openmm(simulation.topology)\n",
    "traj = mdtraj.load_dcd('trajectory.argon.dcd', mdtraj_topology)"
   ]
  },
  {
   "cell_type": "markdown",
   "metadata": {
    "slideshow": {
     "slide_type": "skip"
    }
   },
   "source": [
    "Visualize it."
   ]
  },
  {
   "cell_type": "code",
   "execution_count": null,
   "metadata": {
    "slideshow": {
     "slide_type": "fragment"
    }
   },
   "outputs": [],
   "source": [
    "view = nglview.show_mdtraj(traj) # gui=True for more options\n",
    "\n",
    "# view.add_ball_and_stick('all') # smaller balls\n",
    "view.add_representation(\"spacefill\")\n",
    "view.add_unitcell()\n",
    "# update camera type\n",
    "view.camera = 'orthographic'\n",
    "\n",
    "view.center()\n",
    "view"
   ]
  },
  {
   "cell_type": "markdown",
   "metadata": {
    "slideshow": {
     "slide_type": "slide"
    }
   },
   "source": [
    "# Analysis of thermodynamics"
   ]
  },
  {
   "cell_type": "markdown",
   "metadata": {
    "slideshow": {
     "slide_type": "subslide"
    }
   },
   "source": [
    "Let's have a first look into our `csv` file. "
   ]
  },
  {
   "cell_type": "code",
   "execution_count": null,
   "metadata": {
    "slideshow": {
     "slide_type": "fragment"
    }
   },
   "outputs": [],
   "source": [
    "# print the first line of the file\n",
    "print(open('thermo.argon.csv', 'r').readline())"
   ]
  },
  {
   "cell_type": "markdown",
   "metadata": {
    "slideshow": {
     "slide_type": "fragment"
    }
   },
   "source": [
    "As you can see, the properties are listed with the corresponding unit.\n",
    "\n",
    "You can easily load a `csv` file using `np.genfromtxt(filename, delimiter=',')`.\n",
    "\n",
    "A good practice for handling these files is to use the `names=True` argument.\n",
    "This will assign the column names to the fields of the numpy array.\n",
    "Now, you can no longer use indices as `data[0]` for the first entry but have to use `data['Potential_Energy_kJmole']` as in dictionaries. \n",
    "This may seems stupid at the beginning, but as the order of columns changes dependent on what you save into them, it is the best way to ensure to get the correct files.\n",
    "It also improves readability of the code!\n"
   ]
  },
  {
   "cell_type": "code",
   "execution_count": null,
   "metadata": {
    "slideshow": {
     "slide_type": "fragment"
    }
   },
   "outputs": [],
   "source": [
    "csv = np.genfromtxt('thermo.argon.csv', delimiter=',', names=True)\n",
    "print(\"Fields : {}\".format(csv.dtype.names))"
   ]
  },
  {
   "cell_type": "markdown",
   "metadata": {
    "slideshow": {
     "slide_type": "skip"
    }
   },
   "source": [
    "Let's plot something."
   ]
  },
  {
   "cell_type": "code",
   "execution_count": null,
   "metadata": {
    "slideshow": {
     "slide_type": "skip"
    }
   },
   "outputs": [],
   "source": [
    "import matplotlib.pyplot as plt\n",
    "\n",
    "%matplotlib inline"
   ]
  },
  {
   "cell_type": "code",
   "execution_count": null,
   "metadata": {
    "slideshow": {
     "slide_type": "subslide"
    }
   },
   "outputs": [],
   "source": [
    "plt.title('Potential Energy')\n",
    "\n",
    "plt.plot(csv['Step'], csv['Potential_Energy_kJmole'])\n",
    "\n",
    "plt.xlabel('Step')\n",
    "plt.ylabel('Potential Energy [kj/mole]')"
   ]
  },
  {
   "cell_type": "code",
   "execution_count": null,
   "metadata": {
    "slideshow": {
     "slide_type": "subslide"
    }
   },
   "outputs": [],
   "source": [
    "plt.title('Temperature')\n",
    "\n",
    "plt.plot(csv['Step'], csv['Temperature_K'])\n",
    "\n",
    "plt.xlabel('Step')\n",
    "plt.ylabel('Temperature [K]')"
   ]
  },
  {
   "cell_type": "code",
   "execution_count": null,
   "metadata": {
    "slideshow": {
     "slide_type": "skip"
    }
   },
   "outputs": [],
   "source": []
  }
 ],
 "metadata": {
  "celltoolbar": "Slideshow",
  "kernelspec": {
   "display_name": "Python 3",
   "language": "python",
   "name": "python3"
  },
  "language_info": {
   "codemirror_mode": {
    "name": "ipython",
    "version": 3
   },
   "file_extension": ".py",
   "mimetype": "text/x-python",
   "name": "python",
   "nbconvert_exporter": "python",
   "pygments_lexer": "ipython3",
   "version": "3.6.7"
  },
  "toc": {
   "base_numbering": 1,
   "nav_menu": {},
   "number_sections": true,
   "sideBar": true,
   "skip_h1_title": false,
   "title_cell": "Table of Contents",
   "title_sidebar": "Contents",
   "toc_cell": false,
   "toc_position": {},
   "toc_section_display": true,
   "toc_window_display": false
  }
 },
 "nbformat": 4,
 "nbformat_minor": 2
}
