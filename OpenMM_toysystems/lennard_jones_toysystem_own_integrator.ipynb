{
 "cells": [
  {
   "cell_type": "markdown",
   "metadata": {},
   "source": [
    "# Info\n",
    "\n",
    "In this notebook we use the Lennard-Jones toysystem we created in `lennard_jones_toysystem.ipynb` to play around a bit and learn how to create our own integrator using `CustomIntegrator`. \n",
    "\n",
    "## Targets\n",
    "* run a reference simulation\n",
    "* create a own integrator using `openmm.CustomIntegrator`\n",
    "* create a own reporter \n",
    "* compare *leap-frog*, *velocity-verlet* and *euler*"
   ]
  },
  {
   "cell_type": "markdown",
   "metadata": {},
   "source": [
    "# Intialization"
   ]
  },
  {
   "cell_type": "code",
   "execution_count": null,
   "metadata": {},
   "outputs": [],
   "source": [
    "from simtk import openmm as mm\n",
    "from simtk.openmm import app\n",
    "from simtk.unit import *\n",
    "import numpy as np\n",
    "\n",
    "import mdtraj\n",
    "import nglview\n",
    "\n",
    "import matplotlib.pyplot as plt\n",
    "%matplotlib inline"
   ]
  },
  {
   "cell_type": "markdown",
   "metadata": {},
   "source": [
    "# functions to setup the simulation\n",
    "\n",
    "We define different functions to create the simulation. This way we can focus on the business logic later on and do not have a overwhelming part of repeating implementation code.\n",
    "\n",
    "**Functions:**\n",
    "* `initialize_system(n_particles, mass, box_size)` <br>\n",
    "    Function to initialize a Lennard Jones system.\n",
    "* `create_NonBonndedForce(n_particles, sigma, epsilon, charge)` <br>\n",
    "    Add a NonbondedForce to the system.\n",
    "* `create_topology(n_particles, box_size)` <br>\n",
    "    Function to create the toplogy of the Lennard Jones system."
   ]
  },
  {
   "cell_type": "code",
   "execution_count": null,
   "metadata": {},
   "outputs": [],
   "source": [
    "def initialize_system(n_particles, mass, box_size):\n",
    "    \"\"\"\n",
    "    Function to initialize a Lennard Jones system\n",
    "    \n",
    "    Parameters\n",
    "    ----------\n",
    "    n_particles : int\n",
    "        Number of particles in the system\n",
    "    mass : Quantity\n",
    "        mass of particle\n",
    "    box_size : Quantity\n",
    "        Box length\n",
    "        \n",
    "    Returns\n",
    "    -------\n",
    "    system : simtk.openmm.openmm.System\n",
    "    \"\"\"\n",
    "    \n",
    "    box_vectors = np.diag([box_size/angstrom for i in range(3)])*angstrom\n",
    "\n",
    "    # Create a system and add particles to it\n",
    "    system = mm.System()\n",
    "    for index in range(n_particles):\n",
    "        # Particles are added one at a time\n",
    "        # Their indices in the System will correspond with their indices in the Force objects we will add later\n",
    "        system.addParticle(mass)\n",
    "        \n",
    "    box_vectors = np.diag([box_size for i in range(3)])\n",
    "    system.setDefaultPeriodicBoxVectors(*box_vectors)\n",
    "\n",
    "    return system"
   ]
  },
  {
   "cell_type": "code",
   "execution_count": null,
   "metadata": {},
   "outputs": [],
   "source": [
    "def create_NonBonndedForce(n_particles, sigma, epsilon, charge):\n",
    "    \"\"\"\n",
    "    Add a NonbondedForce to the system\n",
    "    Parameters\n",
    "    ----------\n",
    "    n_particles : int\n",
    "        Number of particles in the system.\n",
    "    sigma : float, optional\n",
    "        Sigma of the Lennard-Jones potential.\n",
    "    epsilon : float, optional\n",
    "        Epsilon of the Lennard-Jones potential. Default is `0`.\n",
    "    charge : float, optional\n",
    "        Charge of the particles. Default is `0`.\n",
    "    Returns\n",
    "    -------\n",
    "    force : simtk.openmm.openmm.NonbondedForce\n",
    "        NonbondedForce assigned to all particles\n",
    "    \"\"\"\n",
    "    # Add Lennard-Jones interactions using a NonbondedForce\n",
    "    force = mm.NonbondedForce()\n",
    "    force.setNonbondedMethod(mm.NonbondedForce.CutoffPeriodic)\n",
    "\n",
    "    # all particles must have parameters assigned for the NonbondedForce\n",
    "    for index in range(n_particles): \n",
    "        # Particles are assigned properties in the same order as they appear in the System object\n",
    "        force.addParticle(charge, sigma, epsilon)\n",
    "    \n",
    "    force.setCutoffDistance(3.0 * sigma) # set cutoff (truncation) distance at 3*sigma\n",
    "    force.setUseSwitchingFunction(True) # use a smooth switching function to avoid force discontinuities at cutoff\n",
    "    force.setSwitchingDistance(2.5 * sigma) # turn on switch at 2.5*sigma\n",
    "    force.setUseDispersionCorrection(True) # use long-range isotropic dispersion correction\n",
    "  \n",
    "    return force"
   ]
  },
  {
   "cell_type": "code",
   "execution_count": null,
   "metadata": {},
   "outputs": [],
   "source": [
    "def create_topology(n_particles, box_size):\n",
    "    \"\"\"\n",
    "    Function to create the toplogy of the Lennard Jones system.\n",
    "    \n",
    "    Parameters\n",
    "    ----------\n",
    "    n_particles : int\n",
    "        Number of particles in the system\n",
    "    \n",
    "    Returns\n",
    "    -------\n",
    "    top : simtk.openmm.app.topology.Topology\n",
    "        Topology for the system\n",
    "    \"\"\"\n",
    "    top = app.Topology()\n",
    "    chain = top.addChain()\n",
    "    for i in range(n_particles):\n",
    "        residue = top.addResidue(name='Ar', chain=chain, id=i)\n",
    "        top.addAtom('Ar',element=app.Element.getBySymbol('Ar') , residue=residue)\n",
    "        \n",
    "    box_vectors = np.diag([box_size/angstrom for i in range(3)])*angstrom\n",
    "    top.setPeriodicBoxVectors(box_vectors)\n",
    "    \n",
    "    return top"
   ]
  },
  {
   "cell_type": "markdown",
   "metadata": {},
   "source": [
    "## Visualization\n",
    "\n",
    "Here are just some functions to visualize our system later on. You can skip this part.\n",
    "\n",
    "* `boxvectors2length(box_vectors)` <br>\n",
    "    Converts box_vectors to lengths and angles.\n",
    "* `viz_traj(traj)` <br>\n",
    "    Creates a nglview object"
   ]
  },
  {
   "cell_type": "code",
   "execution_count": null,
   "metadata": {},
   "outputs": [],
   "source": [
    "def boxvectors2length(box_vectors):\n",
    "    \"\"\"\n",
    "    Converts box_vectors to lengths and angles\n",
    "    \n",
    "    Parameters\n",
    "    ----------\n",
    "    box_vectors : Quantity\n",
    "        Box vectors\n",
    "    \n",
    "    Returns\n",
    "    -------\n",
    "    box_length : Quantity\n",
    "        Box length (a, b, c)\n",
    "    box_angles : Quantity\n",
    "        Box angles (alpha, beta, gamma)\n",
    "    \"\"\"\n",
    "    ((lx, _ , _  ),\n",
    "     (xy, ly, _  ), \n",
    "     (xz, yz, lz))   = ( box_vectors )\n",
    "    \n",
    "    a = lx\n",
    "    b = sqrt(ly**2 + xy**2)\n",
    "    c = sqrt(lz**2 + xz**2 + yz**2)\n",
    "    alpha = acos(( xy*xz + ly*yz ) / (b * c)).in_units_of(degree)\n",
    "    beta  = acos(xz / c).in_units_of(degree)\n",
    "    gamma = acos(yz / b).in_units_of(degree)\n",
    "    return Quantity((a, b, c)), Quantity((alpha, beta, gamma))"
   ]
  },
  {
   "cell_type": "code",
   "execution_count": null,
   "metadata": {},
   "outputs": [],
   "source": [
    "def viz_traj(traj):\n",
    "    view = nglview.show_mdtraj(traj, use_box=True) # gui=True for more options\n",
    "\n",
    "    view.add_spacefill('all')\n",
    "    view.add_unitcell()\n",
    "    # update camera type\n",
    "    view.camera = 'orthographic'\n",
    "\n",
    "    view.center()\n",
    "    return view"
   ]
  },
  {
   "cell_type": "markdown",
   "metadata": {},
   "source": [
    "# Input\n",
    "\n",
    "First of all, we have to define our input again."
   ]
  },
  {
   "cell_type": "code",
   "execution_count": null,
   "metadata": {},
   "outputs": [],
   "source": [
    "# Force field\n",
    "mass = 39.9 * amu\n",
    "charge = 0.0 * elementary_charge\n",
    "sigma = 3.4 * angstroms\n",
    "epsilon = 0.238 * kilocalories_per_mole\n",
    "\n",
    "# System\n",
    "n_particles = 512\n",
    "box_size = 50 * angstrom\n",
    "\n",
    "# MD settings\n",
    "timestep = 1.0 * femtoseconds"
   ]
  },
  {
   "cell_type": "markdown",
   "metadata": {},
   "source": [
    "## generate positions\n",
    "\n",
    "Create random position in the box."
   ]
  },
  {
   "cell_type": "code",
   "execution_count": null,
   "metadata": {},
   "outputs": [],
   "source": [
    "positions = box_size * np.random.rand(n_particles, 3) "
   ]
  },
  {
   "cell_type": "markdown",
   "metadata": {},
   "source": [
    "# Normal Simulation\n",
    "\n",
    "Let's run a reference simulation."
   ]
  },
  {
   "cell_type": "code",
   "execution_count": null,
   "metadata": {},
   "outputs": [],
   "source": [
    "# define a system\n",
    "system = initialize_system(n_particles, mass, box_size)\n",
    "\n",
    "# create a NonbondedForce (with charge=0 -> only Lennard-Jones interactions)\n",
    "force = create_NonBonndedForce(n_particles, sigma, epsilon, charge)\n",
    "force_index = system.addForce(force) \n",
    "\n",
    "# define integrator\n",
    "integrator = mm.VerletIntegrator(timestep)\n",
    "\n",
    "# create topology\n",
    "topology = create_topology(n_particles, box_size)"
   ]
  },
  {
   "cell_type": "code",
   "execution_count": null,
   "metadata": {},
   "outputs": [],
   "source": [
    "# define a simulation context\n",
    "simulation = app.Simulation(topology=topology, system=system, integrator=integrator)"
   ]
  },
  {
   "cell_type": "code",
   "execution_count": null,
   "metadata": {},
   "outputs": [],
   "source": [
    "# set positions\n",
    "simulation.context.setPositions(positions)\n",
    "# set velocities\n",
    "simulation.context.setVelocitiesToTemperature(300 * kelvin)"
   ]
  },
  {
   "cell_type": "code",
   "execution_count": null,
   "metadata": {},
   "outputs": [],
   "source": [
    "# minimize\n",
    "simulation.minimizeEnergy()"
   ]
  },
  {
   "cell_type": "code",
   "execution_count": null,
   "metadata": {},
   "outputs": [],
   "source": [
    "# add reporters\n",
    "simulation.reporters.append(app.DCDReporter('trajectory.bulk.verlet.dcd', 100))\n",
    "simulation.reporters.append(app.StateDataReporter('thermo.bulk.verlet.csv', 100,\n",
    "                                                  step=True,\n",
    "                                                  potentialEnergy=True,\n",
    "                                                  kineticEnergy=True,\n",
    "                                                  totalEnergy=True,\n",
    "                                                  temperature=True))"
   ]
  },
  {
   "cell_type": "code",
   "execution_count": null,
   "metadata": {},
   "outputs": [],
   "source": [
    "simulation.step(10000)"
   ]
  },
  {
   "cell_type": "markdown",
   "metadata": {},
   "source": [
    "## Visualization"
   ]
  },
  {
   "cell_type": "code",
   "execution_count": null,
   "metadata": {},
   "outputs": [],
   "source": [
    "mdtraj_topology = mdtraj.Topology.from_openmm(simulation.topology)\n",
    "traj = mdtraj.load_dcd('trajectory.bulk.verlet.dcd', mdtraj_topology)\n",
    "view = viz_traj(traj)\n",
    "view"
   ]
  },
  {
   "cell_type": "markdown",
   "metadata": {},
   "source": [
    "## Analysis\n",
    "\n",
    "Let's do some analysis and check if our NVE simulation worked."
   ]
  },
  {
   "cell_type": "code",
   "execution_count": null,
   "metadata": {},
   "outputs": [],
   "source": [
    "csv = np.genfromtxt('thermo.bulk.verlet.csv', delimiter=',', names=True)\n",
    "print(\"Fields : {}\".format(csv.dtype.names))"
   ]
  },
  {
   "cell_type": "code",
   "execution_count": null,
   "metadata": {},
   "outputs": [],
   "source": [
    "plt.title('Energy')\n",
    "\n",
    "plt.plot(csv['Step'], csv['Total_Energy_kJmole'], label='Total Energy')\n",
    "plt.plot(csv['Step'], csv['Potential_Energy_kJmole'], label='Potential Energy')\n",
    "plt.plot(csv['Step'], csv['Kinetic_Energy_kJmole'], label='Kinetic Energy')\n",
    "\n",
    "\n",
    "plt.xlabel('Step [ps]')\n",
    "plt.ylabel('Energy [kJ/mole]')\n",
    "plt.legend()"
   ]
  },
  {
   "cell_type": "markdown",
   "metadata": {},
   "source": [
    "# Simulation of an own Integrator\n",
    "\n",
    "Let's define an own integrator. As we want to improve our simulation results and time is money we decide to use the superior euler algorithm and not waste time with the useless overhead of a verlet integrator. "
   ]
  },
  {
   "cell_type": "markdown",
   "metadata": {},
   "source": [
    "## Define a Euler Integrator\n",
    "\n",
    "We have to define our integrator. Therefore, we create a class `EulerIntegrator` from the baseclass `openmm.CustomIntegrator`.\n",
    "\n",
    "We only have to reimplement the `__init__` method.\n",
    "* first `super` the class so we get the methods of `mm.CustomIntegrator`.\n",
    "* add a step to the integrator to allow changing the simulation step using `addUpdateContextState`\n",
    "* compute per-DOF values with `addComputePerDof(value, expression)`\n",
    "* update positions and velocities to satisfy all constraints with `addConstrainPositions()` and `addConstrainVelocities()`"
   ]
  },
  {
   "cell_type": "code",
   "execution_count": null,
   "metadata": {},
   "outputs": [],
   "source": [
    "class EulerIntegrator(mm.CustomIntegrator):\n",
    "    def __init__(self, timestep=1.0 * femtoseconds):\n",
    "        \"\"\"Construct a euler integrator.\n",
    "\n",
    "        Parameters\n",
    "        ----------\n",
    "        timestep : np.unit.Quantity compatible with femtoseconds, default: 1*femtoseconds\n",
    "           The integration timestep.\n",
    "\n",
    "        \"\"\"\n",
    "\n",
    "        super(EulerIntegrator, self).__init__(timestep)\n",
    "              \n",
    "        # Add a step to the integration algorithm that allows Forces to update the context state.\n",
    "        self.addUpdateContextState()\n",
    "        \n",
    "        # Add a step to the integration algorithm that computes a per-DOF value.\n",
    "        self.addComputePerDof(\"v\", \"v+dt*f/m\")\n",
    "        self.addComputePerDof(\"x\", \"x+dt*v\")\n",
    "        \n",
    "        # Add a step to the integration algorithm that updates particle positions so\n",
    "        # all constraints are satisfied.\n",
    "        self.addConstrainPositions()\n",
    "        # Add a step to the integration algorithm that updates particle velocities so \n",
    "        # the net velocity along all constraints is 0.\n",
    "        self.addConstrainVelocities()"
   ]
  },
  {
   "cell_type": "markdown",
   "metadata": {},
   "source": [
    "## Simulation\n",
    "\n",
    "Let's proceed as normal but use the `EulerIntegrator` as integrator."
   ]
  },
  {
   "cell_type": "code",
   "execution_count": null,
   "metadata": {},
   "outputs": [],
   "source": [
    "# define a system\n",
    "system = initialize_system(n_particles, mass, box_size)\n",
    "\n",
    "# create a NonbondedForce (with charge=0 -> only Lennard-Jones interactions)\n",
    "force = create_NonBonndedForce(n_particles, sigma, epsilon, charge)\n",
    "force_index = system.addForce(force) \n",
    "\n",
    "# create topology\n",
    "topology = create_topology(n_particles, box_size)"
   ]
  },
  {
   "cell_type": "code",
   "execution_count": null,
   "metadata": {},
   "outputs": [],
   "source": [
    "# integrator\n",
    "integrator = EulerIntegrator(timestep)"
   ]
  },
  {
   "cell_type": "code",
   "execution_count": null,
   "metadata": {},
   "outputs": [],
   "source": [
    "# define a simulation context\n",
    "simulation = app.Simulation(topology=topology, system=system, integrator=integrator)"
   ]
  },
  {
   "cell_type": "code",
   "execution_count": null,
   "metadata": {},
   "outputs": [],
   "source": [
    "# set positions\n",
    "simulation.context.setPositions(positions)\n",
    "# set velocities\n",
    "simulation.context.setVelocitiesToTemperature(300 * kelvin)"
   ]
  },
  {
   "cell_type": "code",
   "execution_count": null,
   "metadata": {},
   "outputs": [],
   "source": [
    "# minimize\n",
    "simulation.minimizeEnergy()"
   ]
  },
  {
   "cell_type": "code",
   "execution_count": null,
   "metadata": {},
   "outputs": [],
   "source": [
    "# add reporters\n",
    "simulation.reporters.append(app.DCDReporter('trajectory.bulk.euler.dcd', 100))\n",
    "simulation.reporters.append(app.StateDataReporter('thermo.bulk.euler.csv', 100,\n",
    "                                                  step=True,\n",
    "                                                  potentialEnergy=True,\n",
    "                                                  kineticEnergy=True,\n",
    "                                                  totalEnergy=True,\n",
    "                                                  temperature=True))"
   ]
  },
  {
   "cell_type": "code",
   "execution_count": null,
   "metadata": {},
   "outputs": [],
   "source": [
    "simulation.step(10000)"
   ]
  },
  {
   "cell_type": "markdown",
   "metadata": {},
   "source": [
    "## Visualization"
   ]
  },
  {
   "cell_type": "code",
   "execution_count": null,
   "metadata": {},
   "outputs": [],
   "source": [
    "mdtraj_topology = mdtraj.Topology.from_openmm(simulation.topology)\n",
    "traj = mdtraj.load_dcd('trajectory.bulk.euler.dcd', mdtraj_topology)\n",
    "view = viz_traj(traj)\n",
    "view"
   ]
  },
  {
   "cell_type": "markdown",
   "metadata": {},
   "source": [
    "## Analysis\n",
    "\n",
    "Let's analyze what we did."
   ]
  },
  {
   "cell_type": "code",
   "execution_count": null,
   "metadata": {},
   "outputs": [],
   "source": [
    "csv = np.genfromtxt('thermo.bulk.euler.csv', delimiter=',', names=True)\n",
    "print(\"Fields : {}\".format(csv.dtype.names))"
   ]
  },
  {
   "cell_type": "code",
   "execution_count": null,
   "metadata": {},
   "outputs": [],
   "source": [
    "plt.title('Energy')\n",
    "\n",
    "plt.plot(csv['Step'], csv['Total_Energy_kJmole'], label='Total Energy')\n",
    "plt.plot(csv['Step'], csv['Potential_Energy_kJmole'], label='Potential Energy')\n",
    "plt.plot(csv['Step'], csv['Kinetic_Energy_kJmole'], label='Kinetic Energy')\n",
    "\n",
    "\n",
    "plt.xlabel('Step [ps]')\n",
    "plt.ylabel('Energy [kJ/mole]')\n",
    "plt.legend()"
   ]
  },
  {
   "cell_type": "markdown",
   "metadata": {},
   "source": [
    "As you can see every thing works perfect!\n",
    "\n",
    "We implemented a new algorithm even faster then the previous one."
   ]
  },
  {
   "cell_type": "markdown",
   "metadata": {},
   "source": [
    "# Compare different integrators\n",
    "\n",
    "Let's compare the different integrators *leap-frog*, *velocity-verlet* and *euler* to prove the supremacy of our integrator."
   ]
  },
  {
   "cell_type": "code",
   "execution_count": null,
   "metadata": {},
   "outputs": [],
   "source": [
    "from copy import deepcopy\n",
    "import openmmtools"
   ]
  },
  {
   "cell_type": "markdown",
   "metadata": {},
   "source": [
    "## Init starting values\n",
    "\n",
    "First repeat the previous protocol and store the positions and velocities after a short equilibration run."
   ]
  },
  {
   "cell_type": "code",
   "execution_count": null,
   "metadata": {},
   "outputs": [],
   "source": [
    "# define a system\n",
    "system = initialize_system(n_particles, mass, box_size)\n",
    "\n",
    "# create a NonbondedForce (with charge=0 -> only Lennard-Jones interactions)\n",
    "force = create_NonBonndedForce(n_particles, sigma, epsilon, charge)\n",
    "force_index = system.addForce(force) \n",
    "\n",
    "# define integrator\n",
    "integrator = mm.VerletIntegrator(timestep)\n",
    "\n",
    "# create topology\n",
    "topology = create_topology(n_particles, box_size)\n",
    "\n",
    "# define a simulation context\n",
    "simulation = app.Simulation(topology=topology, system=system, integrator=integrator)\n",
    "\n",
    "# set positions\n",
    "simulation.context.setPositions(positions)\n",
    "# set velocities\n",
    "simulation.context.setVelocitiesToTemperature(300 * kelvin)\n",
    "\n",
    "# minimize\n",
    "simulation.minimizeEnergy()\n",
    "\n",
    "# equilibrate\n",
    "simulation.step(10000)"
   ]
  },
  {
   "cell_type": "markdown",
   "metadata": {},
   "source": [
    "Store the data to use it as starting point.\n",
    "\n",
    "We use `deepcopy` here to make sure we really get a copy of the data not a pointer to the memory."
   ]
  },
  {
   "cell_type": "code",
   "execution_count": null,
   "metadata": {},
   "outputs": [],
   "source": [
    "state = simulation.context.getState(getPositions=True, getVelocities=True, getEnergy=True)\n",
    "\n",
    "# get the starting values\n",
    "start_energies = (state.getPotentialEnergy()+state.getKineticEnergy(), \n",
    "                  state.getPotentialEnergy(), \n",
    "                  state.getKineticEnergy())\n",
    "start_positions = deepcopy(state.getPositions())\n",
    "start_velocities = deepcopy(state.getVelocities())\n",
    "start_topology = deepcopy(simulation.topology)\n",
    "start_system = deepcopy(simulation.context.getSystem())"
   ]
  },
  {
   "cell_type": "markdown",
   "metadata": {},
   "source": [
    "## Define a own reporter\n",
    "\n",
    "Let's define a own reporter. \n",
    "\n",
    "We do not want to write and read a lot of `csv` files but access the data straight in python.\n",
    "\n",
    "A `reporter` is just an object with an `__init__` method to predefine some variables at the start.\n",
    "A `describeNextReport(self, simulation)` method to return the next step for a report and a list `boolean` what properties have to be calculated.\n",
    "Last, a reporter also have a `report(self, simulation, state)` method where we define how to report our data.\n",
    "\n",
    "We will in this case just tell the `reporter` to calculate the energy by passing `True` to `getEnergy` and reporting is done by appending the energy to the internal list which can later be accessed."
   ]
  },
  {
   "cell_type": "code",
   "execution_count": null,
   "metadata": {},
   "outputs": [],
   "source": [
    "class EnergyReporter(object):\n",
    "    def __init__(self, reportInterval):\n",
    "        self._reportInterval = reportInterval\n",
    "        self._pe = []\n",
    "        self._ke = []\n",
    "        self._te = []\n",
    "\n",
    "    def describeNextReport(self, simulation):\n",
    "        steps = self._reportInterval - simulation.currentStep%self._reportInterval\n",
    "        # The number of time steps until the next report.\n",
    "        # getPositions,\n",
    "        # getVelocities, \n",
    "        # getForces, \n",
    "        # getEnergy, \n",
    "        # enforcePeriodicBox=False\n",
    "        return (steps, False, False, False, True, None)\n",
    "    \n",
    "    def report(self, simulation, state):\n",
    "        pe = state.getPotentialEnergy().value_in_unit(kilojoules_per_mole)\n",
    "        ke = state.getKineticEnergy().value_in_unit(kilojoules_per_mole)\n",
    "        \n",
    "        self._pe.append(pe)\n",
    "        self._ke.append(ke)\n",
    "        self._te.append(pe+ke)"
   ]
  },
  {
   "cell_type": "markdown",
   "metadata": {},
   "source": [
    "## test integrators\n",
    "\n",
    "Let's test all integrators by starting from the same starting positions and velocities.\n",
    "\n",
    "> Note: use `deepcopy` to make sure you get a copy of the positions because only the pointer is passed to OpenMM!"
   ]
  },
  {
   "cell_type": "code",
   "execution_count": null,
   "metadata": {},
   "outputs": [],
   "source": [
    "# define the list of integrators we want to use\n",
    "integrators = [\n",
    "    mm.VerletIntegrator(timestep), # leap-frog\n",
    "    openmmtools.integrators.VelocityVerletIntegrator(timestep), # velocity verlet\n",
    "    EulerIntegrator(timestep),\n",
    "    \n",
    "]\n",
    "# define the names for them for later use.\n",
    "list_names = [\n",
    "    'leap-frog',\n",
    "    'velocity-verlet',\n",
    "    'euler'\n",
    "]\n",
    "# define a empty list to store our energies in\n",
    "list_energies = []\n",
    "\n",
    "# interate over all integrators and start simulations with them.\n",
    "# add the tuple (totalEnergy, potentialEnergy, kineticEnergy) to list_energies\n",
    "for integrator in integrators:\n",
    "\n",
    "    # define a simulation context\n",
    "    simulation = app.Simulation(topology=deepcopy(start_topology),\n",
    "                                system=deepcopy(start_system),\n",
    "                                integrator=integrator)\n",
    "\n",
    "    # set positions\n",
    "    simulation.context.setPositions(deepcopy(start_positions))\n",
    "    # set velocities\n",
    "    simulation.context.setVelocities(deepcopy(start_velocities))\n",
    "\n",
    "    simulation.reporters.append(EnergyReporter(100))\n",
    "\n",
    "    # equilibrate\n",
    "    simulation.step(10000)\n",
    "    \n",
    "    # get energies\n",
    "    list_energies.append((deepcopy(simulation.reporters[0]._te),\n",
    "                          deepcopy(simulation.reporters[0]._pe),\n",
    "                          deepcopy(simulation.reporters[0]._ke)))"
   ]
  },
  {
   "cell_type": "markdown",
   "metadata": {},
   "source": [
    "## Compare\n",
    "\n",
    "Let's compare our integrators and check if they can perform a `NVE` simulation."
   ]
  },
  {
   "cell_type": "code",
   "execution_count": null,
   "metadata": {},
   "outputs": [],
   "source": [
    "plt.title('Total Energy')\n",
    "\n",
    "for name, (te, pe, ke) in zip(list_names, list_energies):\n",
    "    plt.plot(te, label=name)\n",
    "plt.xlabel('Step [ps]')\n",
    "plt.ylabel('Energy [kJ/mole]')\n",
    "plt.legend()"
   ]
  },
  {
   "cell_type": "markdown",
   "metadata": {},
   "source": [
    "As you can see, our euler algorithm fluctuates quite a bit.\n",
    "\n",
    "This means it wont fulfil energy conservation on the long run. "
   ]
  },
  {
   "cell_type": "markdown",
   "metadata": {},
   "source": [
    "The differences in energies of `leap-frog` and `velocity verlet` are due to half-step vs full-step kinetic energy.\n",
    "\n",
    "\n",
    "<span style='color:red; font-weight:bold'>It is only the INTEPRETATION of energies and temperature</span>\n",
    "* <span style='color:red; font-weight:bold'>The drift will still be the same! The trajectories are identical.</span>"
   ]
  }
 ],
 "metadata": {
  "kernelspec": {
   "display_name": "Python 3",
   "language": "python",
   "name": "python3"
  },
  "language_info": {
   "codemirror_mode": {
    "name": "ipython",
    "version": 3
   },
   "file_extension": ".py",
   "mimetype": "text/x-python",
   "name": "python",
   "nbconvert_exporter": "python",
   "pygments_lexer": "ipython3",
   "version": "3.6.7"
  },
  "toc": {
   "base_numbering": 1,
   "nav_menu": {},
   "number_sections": true,
   "sideBar": true,
   "skip_h1_title": false,
   "title_cell": "Table of Contents",
   "title_sidebar": "Contents",
   "toc_cell": false,
   "toc_position": {},
   "toc_section_display": true,
   "toc_window_display": false
  }
 },
 "nbformat": 4,
 "nbformat_minor": 2
}
