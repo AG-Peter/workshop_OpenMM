{
 "cells": [
  {
   "cell_type": "markdown",
   "metadata": {},
   "source": [
    "# Info\n",
    "\n",
    "In this notebook we use the Lennard-Jones toysystem we created in `lennard_jones_toysystem.ipynb` to play around a bit and learn something about the time reversibility of integrators.\n",
    "\n",
    "Simulate a cube of particles and reverse the velocities after some time so it returns to the original state.\n",
    "\n",
    "```\n",
    "+----------+      +----------+      +----------+\n",
    "|          |  t   |   X   X  | -t   |          |\n",
    "|    XX    |  =>  |          |  =>  |    XX    | \n",
    "|    XX    |      |    X     |      |    XX    | \n",
    "|          |      |  X       |      |          |\n",
    "+----------+      +----------+      +----------+\n",
    "```\n",
    "\n",
    "## Targets\n",
    "* create cube of gas molecules\n",
    "* ideal gas: reversible integrator\n",
    "* real gas: reversible integrator"
   ]
  },
  {
   "cell_type": "code",
   "execution_count": 7,
   "metadata": {
    "ExecuteTime": {
     "end_time": "2019-03-14T12:39:16.943727Z",
     "start_time": "2019-03-14T12:39:16.933014Z"
    }
   },
   "outputs": [],
   "source": [
    "from simtk import openmm as mm\n",
    "from simtk.openmm import app\n",
    "from simtk.unit import *\n",
    "import numpy as np\n",
    "\n",
    "import matplotlib.pyplot as plt\n",
    "%matplotlib inline\n",
    "\n",
    "import mdtraj\n",
    "import nglview\n",
    "\n",
    "from copy import deepcopy"
   ]
  },
  {
   "cell_type": "markdown",
   "metadata": {},
   "source": [
    "# Input\n",
    "\n",
    "Let's define our input which is used for both the *ideal* and the *real* gas."
   ]
  },
  {
   "cell_type": "markdown",
   "metadata": {},
   "source": [
    "## Interactions\n",
    "\n",
    "Parameters to define the interactions between the gas atoms. \n",
    "\n",
    "Only used for the real gas."
   ]
  },
  {
   "cell_type": "code",
   "execution_count": 8,
   "metadata": {
    "ExecuteTime": {
     "end_time": "2019-03-14T12:39:25.191923Z",
     "start_time": "2019-03-14T12:39:25.189943Z"
    }
   },
   "outputs": [],
   "source": [
    "mass = 39.9 * amu\n",
    "charge = 0.0 * elementary_charge\n",
    "sigma = 3.4 * angstroms\n",
    "epsilon = 0.238 * kilocalories_per_mole"
   ]
  },
  {
   "cell_type": "markdown",
   "metadata": {},
   "source": [
    "## System\n",
    "\n",
    "Define the box size and the number of particles per cube side and with it the total number of particles."
   ]
  },
  {
   "cell_type": "code",
   "execution_count": 9,
   "metadata": {
    "ExecuteTime": {
     "end_time": "2019-03-14T12:39:26.475189Z",
     "start_time": "2019-03-14T12:39:26.473380Z"
    }
   },
   "outputs": [],
   "source": [
    "n_particles_per_side = 4\n",
    "n_particles = n_particles_per_side ** 3 \n",
    "box_size = 60 * angstrom"
   ]
  },
  {
   "cell_type": "markdown",
   "metadata": {},
   "source": [
    "## MD - Settings\n",
    "\n",
    "Define some MD parameters."
   ]
  },
  {
   "cell_type": "code",
   "execution_count": 10,
   "metadata": {
    "ExecuteTime": {
     "end_time": "2019-03-14T12:39:30.383536Z",
     "start_time": "2019-03-14T12:39:30.381705Z"
    }
   },
   "outputs": [],
   "source": [
    "# time step\n",
    "timestep = 1.0 * femtoseconds\n",
    "\n",
    "# number of simulated steps\n",
    "n_steps = 10000\n",
    "\n",
    "# output frequency\n",
    "n_output = 100"
   ]
  },
  {
   "cell_type": "markdown",
   "metadata": {},
   "source": [
    "# Ideal gas\n",
    "\n",
    "In an ideal gas we do not have any interactions so we will just create the system and skip the force part."
   ]
  },
  {
   "cell_type": "markdown",
   "metadata": {},
   "source": [
    "## Create the simulation"
   ]
  },
  {
   "cell_type": "markdown",
   "metadata": {},
   "source": [
    "### System"
   ]
  },
  {
   "cell_type": "code",
   "execution_count": 11,
   "metadata": {
    "ExecuteTime": {
     "end_time": "2019-03-14T12:40:04.434717Z",
     "start_time": "2019-03-14T12:40:04.431340Z"
    },
    "code_folding": [
     2
    ]
   },
   "outputs": [],
   "source": [
    "# Create a system and add particles to it\n",
    "system = mm.System()\n",
    "for index in range(n_particles):\n",
    "    # Particles are added one at a time\n",
    "    # Their indices in the System will correspond with their indices in the Force objects we will add later\n",
    "    system.addParticle(mass)\n",
    "    \n",
    "box_vectors = np.diag([box_size/angstrom for i in range(3)])*angstrom\n",
    "system.setDefaultPeriodicBoxVectors(*box_vectors)"
   ]
  },
  {
   "cell_type": "markdown",
   "metadata": {},
   "source": [
    "### Forces"
   ]
  },
  {
   "cell_type": "code",
   "execution_count": 12,
   "metadata": {
    "ExecuteTime": {
     "end_time": "2019-03-14T12:40:04.907584Z",
     "start_time": "2019-03-14T12:40:04.902449Z"
    }
   },
   "outputs": [],
   "source": [
    "# NO FORCES HERE"
   ]
  },
  {
   "cell_type": "markdown",
   "metadata": {},
   "source": [
    "### Integrator"
   ]
  },
  {
   "cell_type": "code",
   "execution_count": 13,
   "metadata": {
    "ExecuteTime": {
     "end_time": "2019-03-14T12:40:05.393977Z",
     "start_time": "2019-03-14T12:40:05.386691Z"
    }
   },
   "outputs": [],
   "source": [
    "# Create an integrator\n",
    "integrator = mm.VerletIntegrator(timestep)"
   ]
  },
  {
   "cell_type": "markdown",
   "metadata": {},
   "source": [
    "### Topology"
   ]
  },
  {
   "cell_type": "code",
   "execution_count": 14,
   "metadata": {
    "ExecuteTime": {
     "end_time": "2019-03-14T12:40:06.121183Z",
     "start_time": "2019-03-14T12:40:06.107505Z"
    }
   },
   "outputs": [
    {
     "name": "stdout",
     "output_type": "stream",
     "text": [
      "<Topology; 1 chains, 64 residues, 64 atoms, 0 bonds>\n"
     ]
    }
   ],
   "source": [
    "top = app.Topology()\n",
    "chain = top.addChain()\n",
    "for i in range(n_particles):\n",
    "    residue = top.addResidue(name='Ar', chain=chain, id=i)\n",
    "    top.addAtom('Ar',element=app.Element.getBySymbol('Ar') , residue=residue)\n",
    "top.setPeriodicBoxVectors(box_vectors)\n",
    "print(top) "
   ]
  },
  {
   "cell_type": "markdown",
   "metadata": {},
   "source": [
    "### Create the simulation"
   ]
  },
  {
   "cell_type": "code",
   "execution_count": 15,
   "metadata": {
    "ExecuteTime": {
     "end_time": "2019-03-14T12:40:07.209126Z",
     "start_time": "2019-03-14T12:40:06.989935Z"
    }
   },
   "outputs": [],
   "source": [
    "simulation = app.Simulation(topology=top, system=system, integrator=integrator)"
   ]
  },
  {
   "cell_type": "markdown",
   "metadata": {},
   "source": [
    "### Define starting positions\n",
    "\n",
    "We create the cube by iterating in all room directions for our number of particles.\n",
    "\n",
    "The distance `r0` between the particles is defined as their minimum in the Lennard-Jones potential."
   ]
  },
  {
   "cell_type": "code",
   "execution_count": 16,
   "metadata": {
    "ExecuteTime": {
     "end_time": "2019-03-14T12:41:13.344400Z",
     "start_time": "2019-03-14T12:41:13.340468Z"
    }
   },
   "outputs": [],
   "source": [
    "positions = np.zeros((n_particles, 3), dtype=np.float64)\n",
    "\n",
    "# radius where the lennard jones potential is zero\n",
    "r0 = (sigma * 2**(1./6.))/angstrom\n",
    "\n",
    "# set coordinates\n",
    "i = 0 # atom index\n",
    "for x in range(n_particles_per_side):\n",
    "    for y in range(n_particles_per_side):\n",
    "        for z in range(n_particles_per_side):\n",
    "            positions[i] = (x*r0, y*r0, z*r0)\n",
    "            # update atom count\n",
    "            i+=1 \n",
    "\n",
    "# calculate center of geometry\n",
    "center_of_geometry = np.sum(positions, axis=0) / n_particles\n",
    "# calculate box center (only for orthogonal boxes !)\n",
    "box_half = np.ones(3) * box_size.value_in_unit(angstrom) / 2\n",
    "# shift center of geometry in the middle of the box\n",
    "positions += box_half - center_of_geometry\n",
    "\n",
    "positions = Quantity(positions, unit=angstrom)"
   ]
  },
  {
   "cell_type": "markdown",
   "metadata": {},
   "source": [
    "set positions"
   ]
  },
  {
   "cell_type": "code",
   "execution_count": 17,
   "metadata": {
    "ExecuteTime": {
     "end_time": "2019-03-14T12:41:14.760894Z",
     "start_time": "2019-03-14T12:41:14.756016Z"
    }
   },
   "outputs": [],
   "source": [
    "simulation.context.setPositions(positions )"
   ]
  },
  {
   "cell_type": "markdown",
   "metadata": {},
   "source": [
    "### Visualize\n",
    "\n",
    "Let's view what we created."
   ]
  },
  {
   "cell_type": "code",
   "execution_count": 18,
   "metadata": {
    "ExecuteTime": {
     "end_time": "2019-03-14T12:41:16.998990Z",
     "start_time": "2019-03-14T12:41:16.981234Z"
    }
   },
   "outputs": [
    {
     "data": {
      "application/vnd.jupyter.widget-view+json": {
       "model_id": "1154df01a52d4464b94a7d200f11e7c7",
       "version_major": 2,
       "version_minor": 0
      },
      "text/plain": [
       "NGLWidget()"
      ]
     },
     "metadata": {},
     "output_type": "display_data"
    }
   ],
   "source": [
    "mdtraj_topology = mdtraj.Topology.from_openmm(simulation.topology)\n",
    "traj = mdtraj.Trajectory(positions/nanometers, mdtraj_topology,\n",
    "                         unitcell_lengths=[box_size/nanometers, box_size/nanometers, box_size/nanometers],\n",
    "                         unitcell_angles=[90, 90, 90])\n",
    "view = nglview.show_mdtraj(traj, use_box=True) # gui=True for more options\n",
    "\n",
    "view.add_spacefill('all')\n",
    "view.add_unitcell()\n",
    "# update camera type\n",
    "view.camera = 'orthographic'\n",
    "\n",
    "view.center()\n",
    "view"
   ]
  },
  {
   "cell_type": "markdown",
   "metadata": {
    "ExecuteTime": {
     "end_time": "2019-03-13T12:20:12.069947Z",
     "start_time": "2019-03-13T12:20:12.036741Z"
    }
   },
   "source": [
    "### Velocities\n",
    "\n",
    "Define velocities and store them in an array for later use."
   ]
  },
  {
   "cell_type": "code",
   "execution_count": 19,
   "metadata": {
    "ExecuteTime": {
     "end_time": "2019-03-14T12:41:59.883023Z",
     "start_time": "2019-03-14T12:41:59.865790Z"
    }
   },
   "outputs": [],
   "source": [
    "simulation.context.setVelocitiesToTemperature(300 * kelvin)\n",
    "state = simulation.context.getState(getVelocities=True)\n",
    "velocities_start = deepcopy(state.getVelocities(asNumpy=True))"
   ]
  },
  {
   "cell_type": "markdown",
   "metadata": {},
   "source": [
    "### Reporters"
   ]
  },
  {
   "cell_type": "code",
   "execution_count": 20,
   "metadata": {
    "ExecuteTime": {
     "end_time": "2019-03-14T12:42:01.005834Z",
     "start_time": "2019-03-14T12:42:00.992538Z"
    }
   },
   "outputs": [],
   "source": [
    "simulation.reporters.append(app.StateDataReporter('thermo.reversible.idealgas.csv', n_output,\n",
    "                                                  step=True,\n",
    "                                                  potentialEnergy=True,\n",
    "                                                  kineticEnergy=True,\n",
    "                                                  totalEnergy=True,\n",
    "                                                  temperature=True,\n",
    "                                                 ))\n",
    "simulation.reporters.append(app.DCDReporter(\"trajectory.reversible.idealgas.dcd\", n_output, enforcePeriodicBox=True))"
   ]
  },
  {
   "cell_type": "markdown",
   "metadata": {
    "ExecuteTime": {
     "end_time": "2019-03-13T12:24:15.613157Z",
     "start_time": "2019-03-13T12:24:15.604928Z"
    }
   },
   "source": [
    "## Simulation\n",
    "\n",
    "At first we store the first state of the system."
   ]
  },
  {
   "cell_type": "code",
   "execution_count": 21,
   "metadata": {
    "ExecuteTime": {
     "end_time": "2019-03-14T12:42:02.127388Z",
     "start_time": "2019-03-14T12:42:02.122870Z"
    }
   },
   "outputs": [],
   "source": [
    "# store positions\n",
    "state = simulation.context.getState(getPositions=True)\n",
    "positions_start = deepcopy(state.getPositions(asNumpy=True))\n",
    "                           \n",
    "# write first frame to dcd file\n",
    "simulation.reporters[1].report(simulation, state)"
   ]
  },
  {
   "cell_type": "markdown",
   "metadata": {},
   "source": [
    "### Forward\n",
    "\n",
    "Let's run the simulation for `n_steps` in the forward direction."
   ]
  },
  {
   "cell_type": "code",
   "execution_count": 22,
   "metadata": {
    "ExecuteTime": {
     "end_time": "2019-03-14T12:42:30.611114Z",
     "start_time": "2019-03-14T12:42:30.248871Z"
    }
   },
   "outputs": [],
   "source": [
    "simulation.step(n_steps)"
   ]
  },
  {
   "cell_type": "markdown",
   "metadata": {},
   "source": [
    "#### Visualize"
   ]
  },
  {
   "cell_type": "code",
   "execution_count": 23,
   "metadata": {
    "ExecuteTime": {
     "end_time": "2019-03-14T12:42:35.176724Z",
     "start_time": "2019-03-14T12:42:35.154030Z"
    }
   },
   "outputs": [
    {
     "data": {
      "application/vnd.jupyter.widget-view+json": {
       "model_id": "06ff5fba62d54a37aea5c620fcc92a9f",
       "version_major": 2,
       "version_minor": 0
      },
      "text/plain": [
       "NGLWidget(count=101)"
      ]
     },
     "metadata": {},
     "output_type": "display_data"
    }
   ],
   "source": [
    "mdtraj_topology = mdtraj.Topology.from_openmm(simulation.topology)\n",
    "traj = mdtraj.load_dcd('trajectory.reversible.idealgas.dcd', top=mdtraj_topology)\n",
    "view = nglview.show_mdtraj(traj, use_box=True) # gui=True for more options\n",
    "\n",
    "view.add_spacefill('all')\n",
    "view.add_unitcell()\n",
    "# update camera type\n",
    "view.camera = 'orthographic'\n",
    "\n",
    "view.center()\n",
    "view"
   ]
  },
  {
   "cell_type": "markdown",
   "metadata": {},
   "source": [
    "As expected the cube is not a stable structure for an ideal gas at 300 Kelvin."
   ]
  },
  {
   "cell_type": "markdown",
   "metadata": {},
   "source": [
    "### Backward\n",
    "\n",
    "Let's run the simulation for `n_steps` backward in time.\n",
    "\n",
    "Therefore, we need to reverse the velocities of our system."
   ]
  },
  {
   "cell_type": "markdown",
   "metadata": {},
   "source": [
    "get the velocities"
   ]
  },
  {
   "cell_type": "code",
   "execution_count": 24,
   "metadata": {
    "ExecuteTime": {
     "end_time": "2019-03-14T12:43:40.475900Z",
     "start_time": "2019-03-14T12:43:40.463811Z"
    }
   },
   "outputs": [],
   "source": [
    "state = simulation.context.getState(getVelocities=True)\n",
    "velocities = state.getVelocities(asNumpy=True)"
   ]
  },
  {
   "cell_type": "markdown",
   "metadata": {},
   "source": [
    "reverse the velocities"
   ]
  },
  {
   "cell_type": "code",
   "execution_count": 25,
   "metadata": {
    "ExecuteTime": {
     "end_time": "2019-03-14T12:43:41.318585Z",
     "start_time": "2019-03-14T12:43:41.310837Z"
    }
   },
   "outputs": [],
   "source": [
    "simulation.context.setVelocities(velocities * -1)"
   ]
  },
  {
   "cell_type": "markdown",
   "metadata": {},
   "source": [
    "run the simulation"
   ]
  },
  {
   "cell_type": "code",
   "execution_count": 26,
   "metadata": {
    "ExecuteTime": {
     "end_time": "2019-03-14T12:43:42.593784Z",
     "start_time": "2019-03-14T12:43:42.255173Z"
    }
   },
   "outputs": [],
   "source": [
    "simulation.step(n_steps)"
   ]
  },
  {
   "cell_type": "markdown",
   "metadata": {},
   "source": [
    "### Visualize"
   ]
  },
  {
   "cell_type": "code",
   "execution_count": 27,
   "metadata": {
    "ExecuteTime": {
     "end_time": "2019-03-14T12:43:43.711755Z",
     "start_time": "2019-03-14T12:43:43.689253Z"
    },
    "scrolled": false
   },
   "outputs": [
    {
     "data": {
      "application/vnd.jupyter.widget-view+json": {
       "model_id": "a36324f3e9b64ae4a2db5b86190a56d3",
       "version_major": 2,
       "version_minor": 0
      },
      "text/plain": [
       "NGLWidget(count=201)"
      ]
     },
     "metadata": {},
     "output_type": "display_data"
    }
   ],
   "source": [
    "mdtraj_topology = mdtraj.Topology.from_openmm(simulation.topology)\n",
    "traj = mdtraj.load_dcd('trajectory.reversible.idealgas.dcd', top=mdtraj_topology)\n",
    "view = nglview.show_mdtraj(traj, use_box=True) # gui=True for more options\n",
    "\n",
    "view.add_spacefill('all')\n",
    "view.add_unitcell()\n",
    "# update camera type\n",
    "view.camera = 'orthographic'\n",
    "\n",
    "view.center()\n",
    "view"
   ]
  },
  {
   "cell_type": "markdown",
   "metadata": {},
   "source": [
    "As you can see, our system is able to return into the starting state."
   ]
  },
  {
   "cell_type": "markdown",
   "metadata": {},
   "source": [
    "### Check positions"
   ]
  },
  {
   "cell_type": "markdown",
   "metadata": {},
   "source": [
    "Additionally, we can check if our positions are exactly the same."
   ]
  },
  {
   "cell_type": "code",
   "execution_count": 28,
   "metadata": {
    "ExecuteTime": {
     "end_time": "2019-03-14T12:44:49.125314Z",
     "start_time": "2019-03-14T12:44:49.106706Z"
    }
   },
   "outputs": [],
   "source": [
    "# get the positions at the end\n",
    "state = simulation.context.getState(getPositions=True)\n",
    "positions_end = state.getPositions(asNumpy=True)"
   ]
  },
  {
   "cell_type": "code",
   "execution_count": 53,
   "metadata": {
    "ExecuteTime": {
     "end_time": "2019-03-14T12:49:07.417671Z",
     "start_time": "2019-03-14T12:49:07.414841Z"
    }
   },
   "outputs": [],
   "source": [
    "not_the_same = np.argwhere(\n",
    "    (positions_start.value_in_unit(angstrom) - positions_end.value_in_unit(angstrom)) != 0)\n",
    "atom_i, pos_i = not_the_same[0]"
   ]
  },
  {
   "cell_type": "code",
   "execution_count": 61,
   "metadata": {
    "ExecuteTime": {
     "end_time": "2019-03-14T12:51:23.419167Z",
     "start_time": "2019-03-14T12:51:23.414632Z"
    }
   },
   "outputs": [
    {
     "name": "stdout",
     "output_type": "stream",
     "text": [
      "Positions at the start / end of atom 3\n",
      "(different in x-direction)\n",
      "[ 24.27544355  24.27544355  35.72455645] A\n",
      "[ 24.27544117  24.27544355  35.72455645] A\n"
     ]
    }
   ],
   "source": [
    "print(\"Positions at the start / end of atom {}\\n(different in {}-direction)\".format(atom_i, \"xyz\"[pos_i]))\n",
    "print(positions_start[atom_i].in_units_of(angstrom))\n",
    "print(positions_end[atom_i].in_units_of(angstrom))"
   ]
  },
  {
   "cell_type": "markdown",
   "metadata": {},
   "source": [
    "<span style='color:red'>The small differences are due to integration errors and floating point errors</span>"
   ]
  },
  {
   "cell_type": "markdown",
   "metadata": {},
   "source": [
    "### Plots\n",
    "\n",
    "Let's check the potential energy."
   ]
  },
  {
   "cell_type": "code",
   "execution_count": 64,
   "metadata": {
    "ExecuteTime": {
     "end_time": "2019-03-14T12:51:50.912095Z",
     "start_time": "2019-03-14T12:51:50.908289Z"
    }
   },
   "outputs": [
    {
     "name": "stdout",
     "output_type": "stream",
     "text": [
      "Fields : ('Step', 'Potential_Energy_kJmole', 'Kinetic_Energy_kJmole', 'Total_Energy_kJmole', 'Temperature_K')\n"
     ]
    }
   ],
   "source": [
    "csv = np.genfromtxt('thermo.reversible.idealgas.csv', delimiter=',', names=True)\n",
    "print(\"Fields : {}\".format(csv.dtype.names))"
   ]
  },
  {
   "cell_type": "code",
   "execution_count": 65,
   "metadata": {
    "ExecuteTime": {
     "end_time": "2019-03-14T12:51:51.614491Z",
     "start_time": "2019-03-14T12:51:51.501091Z"
    },
    "scrolled": true
   },
   "outputs": [
    {
     "data": {
      "text/plain": [
       "<matplotlib.legend.Legend at 0x7f284c358fd0>"
      ]
     },
     "execution_count": 65,
     "metadata": {},
     "output_type": "execute_result"
    },
    {
     "data": {
      "image/png": "[encoded data removed]",
      "text/plain": [
       "<Figure size 432x288 with 1 Axes>"
      ]
     },
     "metadata": {
      "needs_background": "light"
     },
     "output_type": "display_data"
    }
   ],
   "source": [
    "plt.title('Energy')\n",
    "\n",
    "#plt.plot(csv['Step'], csv['Total_Energy_kJmole'], label='Total Energy')\n",
    "plt.plot(csv['Step'], csv['Potential_Energy_kJmole'], label='Potential Energy')\n",
    "#plt.plot(csv['Step'], csv['Kinetic_Energy_kJmole'], label='Kinetic Energy')\n",
    "\n",
    "\n",
    "plt.xlabel('Step [ps]')\n",
    "plt.ylabel('Energy [kJ/mole]')\n",
    "plt.legend()"
   ]
  },
  {
   "cell_type": "markdown",
   "metadata": {},
   "source": [
    "Surprise, it's an ideal gas."
   ]
  },
  {
   "cell_type": "markdown",
   "metadata": {},
   "source": [
    "# Real gas\n",
    "\n",
    "Let's repeat the same with an real gas, meaning we add interactions!."
   ]
  },
  {
   "cell_type": "markdown",
   "metadata": {},
   "source": [
    "## Create the simulation"
   ]
  },
  {
   "cell_type": "markdown",
   "metadata": {},
   "source": [
    "### System\n",
    "\n",
    "get the system of the ideal gas"
   ]
  },
  {
   "cell_type": "code",
   "execution_count": 66,
   "metadata": {
    "ExecuteTime": {
     "end_time": "2019-03-14T12:53:20.545529Z",
     "start_time": "2019-03-14T12:53:20.542135Z"
    },
    "code_folding": []
   },
   "outputs": [],
   "source": [
    "system = deepcopy(simulation.system)\n",
    "top = deepcopy(simulation.topology)"
   ]
  },
  {
   "cell_type": "markdown",
   "metadata": {},
   "source": [
    "### Forces\n",
    "\n",
    "Define Lennard-Jones interactions."
   ]
  },
  {
   "cell_type": "code",
   "execution_count": 67,
   "metadata": {
    "ExecuteTime": {
     "end_time": "2019-03-14T12:53:32.649446Z",
     "start_time": "2019-03-14T12:53:32.643325Z"
    }
   },
   "outputs": [
    {
     "data": {
      "text/plain": [
       "0"
      ]
     },
     "execution_count": 67,
     "metadata": {},
     "output_type": "execute_result"
    }
   ],
   "source": [
    "# Add Lennard-Jones interactions using a NonbondedForce\n",
    "force = mm.NonbondedForce()\n",
    "force.setNonbondedMethod(mm.NonbondedForce.CutoffPeriodic)\n",
    "\n",
    "# all particles must have parameters assigned for the NonbondedForce\n",
    "for index in range(n_particles): \n",
    "    # Particles are assigned properties in the same order as they appear in the System object\n",
    "    force.addParticle(charge, sigma, epsilon)\n",
    "\n",
    "force.setCutoffDistance(3.0 * sigma) # set cutoff (truncation) distance at 3*sigma\n",
    "force.setUseSwitchingFunction(True) # use a smooth switching function to avoid force discontinuities at cutoff\n",
    "force.setSwitchingDistance(2.5 * sigma) # turn on switch at 2.5*sigma\n",
    "force.setUseDispersionCorrection(True) # use long-range isotropic dispersion correction\n",
    "\n",
    "system.addForce(force)"
   ]
  },
  {
   "cell_type": "markdown",
   "metadata": {},
   "source": [
    "Use the same settings as the ideal gas"
   ]
  },
  {
   "cell_type": "code",
   "execution_count": 68,
   "metadata": {
    "ExecuteTime": {
     "end_time": "2019-03-14T12:53:36.165529Z",
     "start_time": "2019-03-14T12:53:35.971394Z"
    }
   },
   "outputs": [],
   "source": [
    "# Create an integrator\n",
    "integrator = mm.VerletIntegrator(timestep)\n",
    "\n",
    "# create the simulation\n",
    "simulation = app.Simulation(topology=top, system=system, integrator=integrator)\n",
    "\n",
    "# Define starting positions\n",
    "simulation.context.setPositions(positions_start)\n",
    "\n",
    "# Define starting positions\n",
    "simulation.context.setVelocities(velocities_start)\n",
    "\n",
    "simulation.reporters.append(app.StateDataReporter('thermo.reversible.realgas.csv', n_output,\n",
    "                                                  step=True,\n",
    "                                                  potentialEnergy=True,\n",
    "                                                  kineticEnergy=True,\n",
    "                                                  totalEnergy=True,\n",
    "                                                  temperature=True,\n",
    "                                                 ))\n",
    "simulation.reporters.append(app.DCDReporter(\"trajectory.reversible.realgas.dcd\", n_output,\n",
    "                                            enforcePeriodicBox=True))"
   ]
  },
  {
   "cell_type": "markdown",
   "metadata": {
    "ExecuteTime": {
     "end_time": "2019-03-13T12:24:15.613157Z",
     "start_time": "2019-03-13T12:24:15.604928Z"
    }
   },
   "source": [
    "## Simulation\n",
    "\n",
    "At first we store the first state of the system."
   ]
  },
  {
   "cell_type": "code",
   "execution_count": 69,
   "metadata": {
    "ExecuteTime": {
     "end_time": "2019-03-14T12:54:36.585560Z",
     "start_time": "2019-03-14T12:54:36.578461Z"
    }
   },
   "outputs": [],
   "source": [
    "# store positions\n",
    "state = simulation.context.getState(getPositions=True)\n",
    "positions_start = deepcopy(state.getPositions(asNumpy=True))\n",
    "                           \n",
    "# write first frame to dcd file\n",
    "simulation.reporters[1].report(simulation, state)"
   ]
  },
  {
   "cell_type": "markdown",
   "metadata": {},
   "source": [
    "### Forward\n",
    "\n",
    "Let's run the simulation for `n_steps` in the forward direction."
   ]
  },
  {
   "cell_type": "code",
   "execution_count": 70,
   "metadata": {
    "ExecuteTime": {
     "end_time": "2019-03-14T12:54:38.973390Z",
     "start_time": "2019-03-14T12:54:38.157074Z"
    }
   },
   "outputs": [],
   "source": [
    "simulation.step(n_steps)"
   ]
  },
  {
   "cell_type": "markdown",
   "metadata": {},
   "source": [
    "#### Visualize"
   ]
  },
  {
   "cell_type": "code",
   "execution_count": 71,
   "metadata": {
    "ExecuteTime": {
     "end_time": "2019-03-14T12:54:40.703585Z",
     "start_time": "2019-03-14T12:54:40.658856Z"
    },
    "scrolled": false
   },
   "outputs": [
    {
     "data": {
      "application/vnd.jupyter.widget-view+json": {
       "model_id": "c68561278a984c2da5d9386edbb78db3",
       "version_major": 2,
       "version_minor": 0
      },
      "text/plain": [
       "NGLWidget(count=101)"
      ]
     },
     "metadata": {},
     "output_type": "display_data"
    }
   ],
   "source": [
    "mdtraj_topology = mdtraj.Topology.from_openmm(simulation.topology)\n",
    "traj = mdtraj.load_dcd('trajectory.reversible.realgas.dcd', top=mdtraj_topology)\n",
    "view = nglview.show_mdtraj(traj, use_box=True) # gui=True for more options\n",
    "\n",
    "view.add_spacefill('all')\n",
    "view.add_unitcell()\n",
    "# update camera type\n",
    "view.camera = 'orthographic'\n",
    "\n",
    "view.center()\n",
    "view"
   ]
  },
  {
   "cell_type": "markdown",
   "metadata": {},
   "source": [
    "Also for an real gas a cube is not the stable structure and it falls apart."
   ]
  },
  {
   "cell_type": "markdown",
   "metadata": {},
   "source": [
    "### Backward\n",
    "\n",
    "Let's run the simulation for `n_steps` backward in time.\n",
    "\n",
    "Therefore, we need to reverse the velocities of our system."
   ]
  },
  {
   "cell_type": "markdown",
   "metadata": {},
   "source": [
    "get the velocities"
   ]
  },
  {
   "cell_type": "code",
   "execution_count": 72,
   "metadata": {
    "ExecuteTime": {
     "end_time": "2019-03-14T12:55:28.145712Z",
     "start_time": "2019-03-14T12:55:28.131894Z"
    }
   },
   "outputs": [],
   "source": [
    "state = simulation.context.getState(getVelocities=True)\n",
    "velocities = state.getVelocities(asNumpy=True)"
   ]
  },
  {
   "cell_type": "markdown",
   "metadata": {},
   "source": [
    "reverse the velocities"
   ]
  },
  {
   "cell_type": "code",
   "execution_count": 73,
   "metadata": {
    "ExecuteTime": {
     "end_time": "2019-03-14T12:55:31.900348Z",
     "start_time": "2019-03-14T12:55:31.890707Z"
    }
   },
   "outputs": [],
   "source": [
    "simulation.context.setVelocities(velocities * -1)"
   ]
  },
  {
   "cell_type": "markdown",
   "metadata": {},
   "source": [
    "run the simulation"
   ]
  },
  {
   "cell_type": "code",
   "execution_count": 74,
   "metadata": {
    "ExecuteTime": {
     "end_time": "2019-03-14T12:55:34.293285Z",
     "start_time": "2019-03-14T12:55:33.494183Z"
    }
   },
   "outputs": [],
   "source": [
    "simulation.step(n_steps)"
   ]
  },
  {
   "cell_type": "markdown",
   "metadata": {},
   "source": [
    "### Visualize"
   ]
  },
  {
   "cell_type": "code",
   "execution_count": 75,
   "metadata": {
    "ExecuteTime": {
     "end_time": "2019-03-14T12:55:35.478559Z",
     "start_time": "2019-03-14T12:55:35.462755Z"
    },
    "scrolled": false
   },
   "outputs": [
    {
     "data": {
      "application/vnd.jupyter.widget-view+json": {
       "model_id": "b44dd8079a934b06b2da9a18c6245c6c",
       "version_major": 2,
       "version_minor": 0
      },
      "text/plain": [
       "NGLWidget(count=201)"
      ]
     },
     "metadata": {},
     "output_type": "display_data"
    }
   ],
   "source": [
    "mdtraj_topology = mdtraj.Topology.from_openmm(simulation.topology)\n",
    "traj = mdtraj.load_dcd('trajectory.reversible.realgas.dcd', top=mdtraj_topology)\n",
    "view = nglview.show_mdtraj(traj, use_box=True) # gui=True for more options\n",
    "\n",
    "view.add_spacefill('all')\n",
    "view.add_unitcell()\n",
    "# update camera type\n",
    "view.camera = 'orthographic'\n",
    "\n",
    "view.center()\n",
    "view"
   ]
  },
  {
   "cell_type": "markdown",
   "metadata": {},
   "source": [
    "This time you can see that the simulation is not able to return to the original state."
   ]
  },
  {
   "cell_type": "markdown",
   "metadata": {},
   "source": [
    "### Check positions"
   ]
  },
  {
   "cell_type": "markdown",
   "metadata": {},
   "source": [
    "Additionally, we can check if our positions are exactly the same."
   ]
  },
  {
   "cell_type": "code",
   "execution_count": 77,
   "metadata": {
    "ExecuteTime": {
     "end_time": "2019-03-14T12:56:33.335619Z",
     "start_time": "2019-03-14T12:56:33.321962Z"
    }
   },
   "outputs": [],
   "source": [
    "# get the positions at the end\n",
    "state = simulation.context.getState(getPositions=True)\n",
    "positions_end = state.getPositions(asNumpy=True)"
   ]
  },
  {
   "cell_type": "code",
   "execution_count": 78,
   "metadata": {
    "ExecuteTime": {
     "end_time": "2019-03-14T12:56:33.849523Z",
     "start_time": "2019-03-14T12:56:33.841439Z"
    }
   },
   "outputs": [],
   "source": [
    "not_the_same = np.argwhere(\n",
    "    (positions_start.value_in_unit(angstrom) - positions_end.value_in_unit(angstrom)) != 0)\n",
    "atom_i, pos_i = not_the_same[0]"
   ]
  },
  {
   "cell_type": "code",
   "execution_count": 79,
   "metadata": {
    "ExecuteTime": {
     "end_time": "2019-03-14T12:56:34.621127Z",
     "start_time": "2019-03-14T12:56:34.609017Z"
    }
   },
   "outputs": [
    {
     "name": "stdout",
     "output_type": "stream",
     "text": [
      "Positions at the start / end of atom 0\n",
      "(different in x-direction)\n",
      "[ 24.27544355  24.27544355  24.27544355] A\n",
      "[ 26.33368969  23.78418922  23.80094767] A\n"
     ]
    }
   ],
   "source": [
    "print(\"Positions at the start / end of atom {}\\n(different in {}-direction)\".format(atom_i, \"xyz\"[pos_i]))\n",
    "print(positions_start[atom_i].in_units_of(angstrom))\n",
    "print(positions_end[atom_i].in_units_of(angstrom))"
   ]
  },
  {
   "cell_type": "markdown",
   "metadata": {},
   "source": [
    "### Plots\n",
    "\n",
    "Let's have a look into the energy."
   ]
  },
  {
   "cell_type": "code",
   "execution_count": 83,
   "metadata": {
    "ExecuteTime": {
     "end_time": "2019-03-14T12:57:27.829813Z",
     "start_time": "2019-03-14T12:57:27.825910Z"
    }
   },
   "outputs": [
    {
     "name": "stdout",
     "output_type": "stream",
     "text": [
      "Fields : ('Step', 'Potential_Energy_kJmole', 'Kinetic_Energy_kJmole', 'Total_Energy_kJmole', 'Temperature_K')\n"
     ]
    }
   ],
   "source": [
    "csv = np.genfromtxt('thermo.reversible.realgas.csv', delimiter=',', names=True)\n",
    "print(\"Fields : {}\".format(csv.dtype.names))"
   ]
  },
  {
   "cell_type": "code",
   "execution_count": 84,
   "metadata": {
    "ExecuteTime": {
     "end_time": "2019-03-14T12:57:28.525156Z",
     "start_time": "2019-03-14T12:57:28.384488Z"
    },
    "scrolled": true
   },
   "outputs": [
    {
     "data": {
      "text/plain": [
       "<matplotlib.legend.Legend at 0x7f286e390ac8>"
      ]
     },
     "execution_count": 84,
     "metadata": {},
     "output_type": "execute_result"
    },
    {
     "data": {
      "image/png": "[encoded data removed]",
      "text/plain": [
       "<Figure size 432x288 with 1 Axes>"
      ]
     },
     "metadata": {
      "needs_background": "light"
     },
     "output_type": "display_data"
    }
   ],
   "source": [
    "plt.title('Energy')\n",
    "\n",
    "#plt.plot(csv['Step'], csv['Total_Energy_kJmole'], label='Total Energy')\n",
    "plt.plot(csv['Step'], csv['Potential_Energy_kJmole'], label='Potential Energy')\n",
    "#plt.plot(csv['Step'], csv['Kinetic_Energy_kJmole'], label='Kinetic Energy')\n",
    "\n",
    "\n",
    "plt.xlabel('Step [ps]')\n",
    "plt.ylabel('Energy [kJ/mole]')\n",
    "plt.legend()"
   ]
  },
  {
   "cell_type": "markdown",
   "metadata": {},
   "source": [
    "<span style='color:red'>\n",
    "    This time the error is due to integration errors, floating point errors and possible cutoff errors.\n",
    "</span>"
   ]
  },
  {
   "cell_type": "markdown",
   "metadata": {},
   "source": [
    "> Try only to use `1000` steps for `n_steps`. The simulation should now be able to return to the original state.\n",
    "\n",
    "> Try to change the `cutoff`.\n",
    "\n",
    "> Try what happens when you deactivate the *switching function* in the force definition with `force.setUseSwitchingFunction(False)`\n",
    "\n",
    "> Try to reduce the time step to reduce integration errors. (Note: also increase the number of steps at the same time so you simulate the same amount of time ! )"
   ]
  },
  {
   "cell_type": "code",
   "execution_count": null,
   "metadata": {},
   "outputs": [],
   "source": []
  },
  {
   "cell_type": "code",
   "execution_count": null,
   "metadata": {},
   "outputs": [],
   "source": []
  }
 ],
 "metadata": {
  "kernelspec": {
   "display_name": "Python 3",
   "language": "python",
   "name": "python3"
  },
  "language_info": {
   "codemirror_mode": {
    "name": "ipython",
    "version": 3
   },
   "file_extension": ".py",
   "mimetype": "text/x-python",
   "name": "python",
   "nbconvert_exporter": "python",
   "pygments_lexer": "ipython3",
   "version": "3.6.7"
  },
  "toc": {
   "base_numbering": 1,
   "nav_menu": {},
   "number_sections": true,
   "sideBar": true,
   "skip_h1_title": false,
   "title_cell": "Table of Contents",
   "title_sidebar": "Contents",
   "toc_cell": false,
   "toc_position": {},
   "toc_section_display": true,
   "toc_window_display": false
  }
 },
 "nbformat": 4,
 "nbformat_minor": 2
}
