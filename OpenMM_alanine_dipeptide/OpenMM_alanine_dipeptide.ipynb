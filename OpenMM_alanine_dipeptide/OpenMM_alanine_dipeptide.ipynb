{
 "cells": [
  {
   "cell_type": "markdown",
   "metadata": {
    "slideshow": {
     "slide_type": "slide"
    }
   },
   "source": [
    "# HandsOn : OpenMM alanine dipeptide\n",
    "\n",
    "A simulation of the famous alanine dipeptide using OpenMM.\n",
    "* use `.xml` files from OpenMM\n",
    "* use `topol.top` files from GROMACS"
   ]
  },
  {
   "cell_type": "markdown",
   "metadata": {
    "slideshow": {
     "slide_type": "slide"
    }
   },
   "source": [
    "Let's import every thing we need.\n",
    "\n",
    "But this time import not everything from the module, so we can use `<tab>` to check what is in `app.` or `mm.`."
   ]
  },
  {
   "cell_type": "code",
   "execution_count": 1,
   "metadata": {
    "ExecuteTime": {
     "end_time": "2019-03-08T15:01:35.268710Z",
     "start_time": "2019-03-08T15:01:34.967666Z"
    },
    "slideshow": {
     "slide_type": "fragment"
    }
   },
   "outputs": [],
   "source": [
    "from simtk.openmm import app\n",
    "import simtk.openmm as mm\n",
    "from simtk.unit import *"
   ]
  },
  {
   "cell_type": "markdown",
   "metadata": {
    "slideshow": {
     "slide_type": "fragment"
    }
   },
   "source": [
    "# Setup the Simulation"
   ]
  },
  {
   "cell_type": "markdown",
   "metadata": {
    "slideshow": {
     "slide_type": "fragment"
    }
   },
   "source": [
    "1. Read the PDB file to extract the topology and the positions from it.\n",
    "2. Load the `*.xml` file for the force field.\n",
    "3. Create the system\n",
    "4. Define the integrator.\n",
    "5. Create the simulation context\n",
    "6. Set positions of the context"
   ]
  },
  {
   "cell_type": "code",
   "execution_count": 2,
   "metadata": {
    "ExecuteTime": {
     "end_time": "2019-03-08T15:01:36.443132Z",
     "start_time": "2019-03-08T15:01:35.275327Z"
    },
    "slideshow": {
     "slide_type": "slide"
    }
   },
   "outputs": [],
   "source": [
    "# read the pdb file\n",
    "pdb = app.PDBFile(\"alanine_dipeptide_solvated.pdb\")\n",
    "\n",
    "# read the force field file\n",
    "forcefield = app.ForceField('amber96.xml', 'tip3p.xml')\n",
    "\n",
    "# Create the system\n",
    "system = forcefield.createSystem(\n",
    "    pdb.topology, \n",
    "    nonbondedMethod=app.PME, \n",
    "    nonbondedCutoff=1.0*nanometers,\n",
    "    constraints=app.HBonds, \n",
    "    rigidWater=True,\n",
    "    ewaldErrorTolerance=0.0005\n",
    ")\n",
    "\n",
    "# define the integrator\n",
    "integrator = mm.LangevinIntegrator(300*kelvin, 1/picosecond, 0.002*picoseconds)\n",
    "\n",
    "# create the simulation context\n",
    "simulation = app.Simulation(pdb.topology, system, integrator)\n",
    "\n",
    "# set the positions\n",
    "simulation.context.setPositions(pdb.positions)"
   ]
  },
  {
   "cell_type": "markdown",
   "metadata": {
    "slideshow": {
     "slide_type": "subslide"
    }
   },
   "source": [
    "Note: Force field files from the current directory are taken first, then from the OpenMM install directory\n",
    "\n",
    "You can see files with:\n",
    "```python\n",
    "import os\n",
    "from pprint import pformat\n",
    "\n",
    "path_xml_files = os.path.join(app.__path__[0], 'data')\n",
    "print(\"XML files are located here:\\n {}\".format(path_xml_files))\n",
    "print(\"XML files :\\n\", pformat(os.listdir(path_xml_files)))\n",
    "```"
   ]
  },
  {
   "cell_type": "markdown",
   "metadata": {
    "slideshow": {
     "slide_type": "slide"
    }
   },
   "source": [
    "## Minimize the energy"
   ]
  },
  {
   "cell_type": "markdown",
   "metadata": {
    "slideshow": {
     "slide_type": "fragment"
    }
   },
   "source": [
    "first check the current energy of the system"
   ]
  },
  {
   "cell_type": "code",
   "execution_count": 3,
   "metadata": {
    "ExecuteTime": {
     "end_time": "2019-03-08T15:01:36.453547Z",
     "start_time": "2019-03-08T15:01:36.444728Z"
    },
    "slideshow": {
     "slide_type": "fragment"
    }
   },
   "outputs": [
    {
     "name": "stdout",
     "output_type": "stream",
     "text": [
      "PE : -21828.132261735016 kJ/mol\n"
     ]
    }
   ],
   "source": [
    "state = simulation.context.getState(getEnergy=True)\n",
    "print(\"PE : {}\".format(state.getPotentialEnergy()))"
   ]
  },
  {
   "cell_type": "markdown",
   "metadata": {
    "slideshow": {
     "slide_type": "skip"
    }
   },
   "source": [
    "minimize the system"
   ]
  },
  {
   "cell_type": "code",
   "execution_count": 4,
   "metadata": {
    "ExecuteTime": {
     "end_time": "2019-03-08T15:01:37.013925Z",
     "start_time": "2019-03-08T15:01:36.455209Z"
    },
    "slideshow": {
     "slide_type": "fragment"
    }
   },
   "outputs": [],
   "source": [
    "simulation.minimizeEnergy()"
   ]
  },
  {
   "cell_type": "code",
   "execution_count": 5,
   "metadata": {
    "ExecuteTime": {
     "end_time": "2019-03-08T15:01:37.017281Z",
     "start_time": "2019-03-08T15:01:37.014891Z"
    },
    "slideshow": {
     "slide_type": "fragment"
    }
   },
   "outputs": [
    {
     "name": "stdout",
     "output_type": "stream",
     "text": [
      "PE : -27326.22315019231 kJ/mol\n"
     ]
    }
   ],
   "source": [
    "state = simulation.context.getState(getEnergy=True)\n",
    "print(\"PE : {}\".format(state.getPotentialEnergy()))"
   ]
  },
  {
   "cell_type": "markdown",
   "metadata": {
    "slideshow": {
     "slide_type": "slide"
    }
   },
   "source": [
    "## Simulation"
   ]
  },
  {
   "cell_type": "markdown",
   "metadata": {
    "slideshow": {
     "slide_type": "fragment"
    }
   },
   "source": [
    "add reporters to store the data"
   ]
  },
  {
   "cell_type": "code",
   "execution_count": 6,
   "metadata": {
    "ExecuteTime": {
     "end_time": "2019-03-08T15:01:37.028356Z",
     "start_time": "2019-03-08T15:01:37.018194Z"
    },
    "slideshow": {
     "slide_type": "fragment"
    }
   },
   "outputs": [],
   "source": [
    "# report thermodynamical properties\n",
    "simulation.reporters.append(app.StateDataReporter('thermo.csv', 100,\n",
    "                                                  step=True, potentialEnergy=True, temperature=True))\n",
    "# report positions\n",
    "simulation.reporters.append(app.DCDReporter('trajectory.dcd', 100))"
   ]
  },
  {
   "cell_type": "markdown",
   "metadata": {
    "slideshow": {
     "slide_type": "fragment"
    }
   },
   "source": [
    "generate velocities"
   ]
  },
  {
   "cell_type": "code",
   "execution_count": 7,
   "metadata": {
    "ExecuteTime": {
     "end_time": "2019-03-08T15:01:37.035983Z",
     "start_time": "2019-03-08T15:01:37.029258Z"
    },
    "slideshow": {
     "slide_type": "fragment"
    }
   },
   "outputs": [],
   "source": [
    "simulation.context.setVelocitiesToTemperature(300*kelvin)"
   ]
  },
  {
   "cell_type": "markdown",
   "metadata": {
    "slideshow": {
     "slide_type": "fragment"
    }
   },
   "source": [
    "run the simulation"
   ]
  },
  {
   "cell_type": "code",
   "execution_count": 8,
   "metadata": {
    "ExecuteTime": {
     "end_time": "2019-03-08T15:01:40.790993Z",
     "start_time": "2019-03-08T15:01:37.038147Z"
    },
    "slideshow": {
     "slide_type": "fragment"
    }
   },
   "outputs": [],
   "source": [
    "simulation.step(10000)"
   ]
  },
  {
   "cell_type": "markdown",
   "metadata": {
    "slideshow": {
     "slide_type": "slide"
    }
   },
   "source": [
    "## Analysis"
   ]
  },
  {
   "cell_type": "code",
   "execution_count": 9,
   "metadata": {
    "ExecuteTime": {
     "end_time": "2019-03-08T15:01:40.957507Z",
     "start_time": "2019-03-08T15:01:40.792200Z"
    },
    "slideshow": {
     "slide_type": "fragment"
    }
   },
   "outputs": [],
   "source": [
    "import numpy as np\n",
    "\n",
    "import matplotlib.pyplot as plt\n",
    "%matplotlib inline"
   ]
  },
  {
   "cell_type": "markdown",
   "metadata": {
    "slideshow": {
     "slide_type": "fragment"
    }
   },
   "source": [
    "get the header of `thermo.csv`"
   ]
  },
  {
   "cell_type": "code",
   "execution_count": 10,
   "metadata": {
    "ExecuteTime": {
     "end_time": "2019-03-08T15:01:40.961697Z",
     "start_time": "2019-03-08T15:01:40.958417Z"
    },
    "slideshow": {
     "slide_type": "fragment"
    }
   },
   "outputs": [
    {
     "data": {
      "text/plain": [
       "'#\"Step\",\"Potential Energy (kJ/mole)\",\"Temperature (K)\"\\n'"
      ]
     },
     "execution_count": 10,
     "metadata": {},
     "output_type": "execute_result"
    }
   ],
   "source": [
    "open('thermo.csv', 'r').readline()"
   ]
  },
  {
   "cell_type": "markdown",
   "metadata": {
    "slideshow": {
     "slide_type": "fragment"
    }
   },
   "source": [
    "Read in the CSV file and assign the column names to fields in the `numpy.array`"
   ]
  },
  {
   "cell_type": "code",
   "execution_count": 11,
   "metadata": {
    "ExecuteTime": {
     "end_time": "2019-03-08T15:01:40.972606Z",
     "start_time": "2019-03-08T15:01:40.962616Z"
    },
    "slideshow": {
     "slide_type": "fragment"
    }
   },
   "outputs": [
    {
     "name": "stdout",
     "output_type": "stream",
     "text": [
      "Fields : ('Step', 'Potential_Energy_kJmole', 'Temperature_K')\n"
     ]
    }
   ],
   "source": [
    "csv = np.genfromtxt('thermo.csv', delimiter=',', names=True)\n",
    "print(\"Fields : {}\".format(csv.dtype.names))"
   ]
  },
  {
   "cell_type": "code",
   "execution_count": 12,
   "metadata": {
    "ExecuteTime": {
     "end_time": "2019-03-08T15:01:41.097841Z",
     "start_time": "2019-03-08T15:01:40.974160Z"
    },
    "slideshow": {
     "slide_type": "subslide"
    }
   },
   "outputs": [
    {
     "data": {
      "text/plain": [
       "Text(0, 0.5, 'Potential Energy [kJ/mole]')"
      ]
     },
     "execution_count": 12,
     "metadata": {},
     "output_type": "execute_result"
    },
    {
     "data": {
      "image/png": "[encoded data removed]",
      "text/plain": [
       "<Figure size 432x288 with 1 Axes>"
      ]
     },
     "metadata": {
      "needs_background": "light"
     },
     "output_type": "display_data"
    }
   ],
   "source": [
    "plt.title('Potential Energy')\n",
    "\n",
    "plt.plot(csv['Step'], csv['Potential_Energy_kJmole'])\n",
    "\n",
    "plt.xlabel('Step [ps]')\n",
    "plt.ylabel('Potential Energy [kJ/mole]')"
   ]
  },
  {
   "cell_type": "markdown",
   "metadata": {
    "ExecuteTime": {
     "end_time": "2019-03-08T13:09:21.849516Z",
     "start_time": "2019-03-08T13:09:21.846349Z"
    },
    "slideshow": {
     "slide_type": "slide"
    }
   },
   "source": [
    "# Starting a simulation using GROMACS files"
   ]
  },
  {
   "cell_type": "markdown",
   "metadata": {
    "slideshow": {
     "slide_type": "fragment"
    }
   },
   "source": [
    "## Preperation (GROMACS)\n",
    "\n",
    "To make things easy we just copy the force field in this folder.\n",
    "```bash\n",
    "cp ${GMXDATA}/top/amber96.ff .\n",
    "```"
   ]
  },
  {
   "cell_type": "markdown",
   "metadata": {
    "slideshow": {
     "slide_type": "subslide"
    }
   },
   "source": [
    "Due to naming conventions of GROMACS we have to change the naming of the `ACE` and `NME` residue\n",
    "```bash\n",
    "sed '\n",
    "  s/ H1  ACE/HH31 ACE/; \n",
    "  s/ H2  ACE/HH32 ACE/; \n",
    "  s/ H3  ACE/HH33 ACE/; \n",
    "  s/ H1  NME/HH31 NME/; \n",
    "  s/ H2  NME/HH32 NME/; \n",
    "  s/ H3  NME/HH33 NME/;\n",
    "  s/ C   NME/CH3  NME/;\n",
    "  s/ O   HOH/OW   HOH/g;\n",
    "  s/ H1  HOH/HW1  HOH/g;\n",
    "  s/ H2  HOH/HW2  HOH/g;\n",
    "\n",
    "  ' alanine_dipeptide_solvated.pdb > alanine_dipeptide_solvated_gromacs.pdb\n",
    "```\n",
    "\n",
    "Then we create the needed top file.\n",
    "```bash\n",
    "gmx pdb2gmx -f alanine_dipeptide_solvated.pdb -water tip3p -ff amber96\n",
    "```"
   ]
  },
  {
   "cell_type": "markdown",
   "metadata": {
    "slideshow": {
     "slide_type": "subslide"
    }
   },
   "source": [
    "Let's read in the pdb file again, you could also use\n",
    "```python\n",
    "gro = app.GromacsGroFile(\"my_awesome_system.gro\")\n",
    "# box_vectors = gro.getPeriodicBoxVectors()\n",
    "```\n",
    "to read `.gro` files."
   ]
  },
  {
   "cell_type": "code",
   "execution_count": 13,
   "metadata": {
    "ExecuteTime": {
     "end_time": "2019-03-08T15:01:41.171600Z",
     "start_time": "2019-03-08T15:01:41.098889Z"
    },
    "slideshow": {
     "slide_type": "fragment"
    }
   },
   "outputs": [],
   "source": [
    "# read the pdb file\n",
    "pdb = app.PDBFile(\"alanine_dipeptide_solvated_gromacs.pdb\")"
   ]
  },
  {
   "cell_type": "markdown",
   "metadata": {
    "slideshow": {
     "slide_type": "fragment"
    }
   },
   "source": [
    "This time we want to get the topology from the gromacs top file"
   ]
  },
  {
   "cell_type": "code",
   "execution_count": 14,
   "metadata": {
    "ExecuteTime": {
     "end_time": "2019-03-08T15:01:41.192435Z",
     "start_time": "2019-03-08T15:01:41.172498Z"
    },
    "slideshow": {
     "slide_type": "fragment"
    }
   },
   "outputs": [],
   "source": [
    "top = app.GromacsTopFile('topol.top',\n",
    "          periodicBoxVectors=pdb.topology.getPeriodicBoxVectors(),\n",
    "          includeDir='amber96.ff')"
   ]
  },
  {
   "cell_type": "markdown",
   "metadata": {
    "slideshow": {
     "slide_type": "subslide"
    }
   },
   "source": [
    "Create a system"
   ]
  },
  {
   "cell_type": "code",
   "execution_count": 15,
   "metadata": {
    "ExecuteTime": {
     "end_time": "2019-03-08T15:01:41.222204Z",
     "start_time": "2019-03-08T15:01:41.193807Z"
    },
    "slideshow": {
     "slide_type": "fragment"
    }
   },
   "outputs": [],
   "source": [
    "system = top.createSystem(\n",
    "    nonbondedMethod=app.PME, \n",
    "    nonbondedCutoff=1.0*nanometers,\n",
    "    constraints=app.HBonds, \n",
    "    rigidWater=True,\n",
    "    ewaldErrorTolerance=0.0005)"
   ]
  },
  {
   "cell_type": "markdown",
   "metadata": {
    "slideshow": {
     "slide_type": "fragment"
    }
   },
   "source": [
    "Now create the rest"
   ]
  },
  {
   "cell_type": "code",
   "execution_count": 16,
   "metadata": {
    "ExecuteTime": {
     "end_time": "2019-03-08T15:01:41.488590Z",
     "start_time": "2019-03-08T15:01:41.223504Z"
    },
    "slideshow": {
     "slide_type": "fragment"
    }
   },
   "outputs": [],
   "source": [
    "# define the integrator\n",
    "integrator = mm.LangevinIntegrator(300*kelvin, 1/picosecond, 0.002*picoseconds)\n",
    "\n",
    "# create the simulation context\n",
    "simulation = app.Simulation(top.topology, system, integrator)\n",
    "\n",
    "# set the positions\n",
    "simulation.context.setPositions(pdb.positions)"
   ]
  },
  {
   "cell_type": "markdown",
   "metadata": {
    "ExecuteTime": {
     "end_time": "2019-03-08T14:31:38.885312Z",
     "start_time": "2019-03-08T14:31:38.668274Z"
    },
    "slideshow": {
     "slide_type": "fragment"
    }
   },
   "source": [
    "We are ready to go now and just created a simulation context from GROMACS input files."
   ]
  },
  {
   "cell_type": "markdown",
   "metadata": {
    "slideshow": {
     "slide_type": "slide"
    }
   },
   "source": [
    "# Compare both"
   ]
  },
  {
   "cell_type": "code",
   "execution_count": 17,
   "metadata": {
    "ExecuteTime": {
     "end_time": "2019-03-08T15:01:42.187144Z",
     "start_time": "2019-03-08T15:01:41.489771Z"
    },
    "slideshow": {
     "slide_type": "fragment"
    }
   },
   "outputs": [],
   "source": [
    "import mdtraj"
   ]
  },
  {
   "cell_type": "markdown",
   "metadata": {
    "slideshow": {
     "slide_type": "fragment"
    }
   },
   "source": [
    "Let's just use the topology from OpenMM !"
   ]
  },
  {
   "cell_type": "code",
   "execution_count": 18,
   "metadata": {
    "ExecuteTime": {
     "end_time": "2019-03-08T15:01:42.195688Z",
     "start_time": "2019-03-08T15:01:42.188078Z"
    },
    "slideshow": {
     "slide_type": "fragment"
    }
   },
   "outputs": [],
   "source": [
    "trajectory = mdtraj.load('trajectory.dcd',\n",
    "                         top=mdtraj.Topology.from_openmm(simulation.topology))"
   ]
  },
  {
   "cell_type": "markdown",
   "metadata": {
    "slideshow": {
     "slide_type": "subslide"
    }
   },
   "source": [
    "Let's use the positions of the old trajectory for the calculation of energies"
   ]
  },
  {
   "cell_type": "code",
   "execution_count": 19,
   "metadata": {
    "ExecuteTime": {
     "end_time": "2019-03-08T15:01:42.300941Z",
     "start_time": "2019-03-08T15:01:42.196600Z"
    },
    "slideshow": {
     "slide_type": "fragment"
    }
   },
   "outputs": [],
   "source": [
    "# Storage for energies\n",
    "potential_energy_gromacs = []\n",
    "\n",
    "for i in range(trajectory.n_frames):\n",
    "    # get the coordinates (MDTRAJ reads them as nanometers)\n",
    "    coordinates = trajectory.xyz[i] * nanometer # Important!\n",
    "    \n",
    "    # set the new positions\n",
    "    simulation.context.setPositions(coordinates)\n",
    "    \n",
    "    # define the state\n",
    "    state = simulation.context.getState(getEnergy=True)\n",
    "    # get the potential energy\n",
    "    pe = state.getPotentialEnergy()\n",
    "    \n",
    "    # only get the value in kJ/mole\n",
    "    potential_energy_gromacs.append( pe.value_in_unit(kilojoule / mole) )"
   ]
  },
  {
   "cell_type": "markdown",
   "metadata": {
    "ExecuteTime": {
     "end_time": "2019-03-08T14:49:06.571132Z",
     "start_time": "2019-03-08T14:49:06.563361Z"
    },
    "slideshow": {
     "slide_type": "subslide"
    }
   },
   "source": [
    "Compare the `OpenMM` `.xml` files with the `GROMACS` files"
   ]
  },
  {
   "cell_type": "code",
   "execution_count": 20,
   "metadata": {
    "ExecuteTime": {
     "end_time": "2019-03-08T15:01:42.424700Z",
     "start_time": "2019-03-08T15:01:42.301872Z"
    },
    "slideshow": {
     "slide_type": "fragment"
    }
   },
   "outputs": [
    {
     "data": {
      "text/plain": [
       "<matplotlib.legend.Legend at 0x7f60d51038d0>"
      ]
     },
     "execution_count": 20,
     "metadata": {},
     "output_type": "execute_result"
    },
    {
     "data": {
      "image/png": "[encoded data removed]",
      "text/plain": [
       "<Figure size 432x288 with 1 Axes>"
      ]
     },
     "metadata": {
      "needs_background": "light"
     },
     "output_type": "display_data"
    }
   ],
   "source": [
    "plt.title('Potential Energy')\n",
    "\n",
    "plt.plot(csv['Step'], csv['Potential_Energy_kJmole'], label='OpenMM')\n",
    "plt.plot(csv['Step'], potential_energy_gromacs, '-.', label='Gromacs')\n",
    "\n",
    "\n",
    "plt.xlabel('Step [ps]')\n",
    "plt.ylabel('Potential Energy [kJ/mole]')\n",
    "plt.legend()"
   ]
  },
  {
   "cell_type": "markdown",
   "metadata": {
    "slideshow": {
     "slide_type": "fragment"
    }
   },
   "source": [
    "Looks good!"
   ]
  },
  {
   "cell_type": "code",
   "execution_count": 23,
   "metadata": {
    "ExecuteTime": {
     "end_time": "2019-03-08T15:07:48.294610Z",
     "start_time": "2019-03-08T15:07:48.282794Z"
    },
    "slideshow": {
     "slide_type": "subslide"
    }
   },
   "outputs": [
    {
     "ename": "AssertionError",
     "evalue": "\nArrays are not almost equal to 6 decimals\n\n(mismatch 100.0%)\n x: array([-24632.105963, -24336.53565 , -24083.53565 , -23768.293463,\n       -23531.5044  , -23291.09815 , -23037.113775, -22987.590338,\n       -22872.277838, -22798.824713, -22626.184088, -22308.520025,...\n y: array([-24633.84823 , -24338.259431, -24085.243806, -23770.025056,\n       -23533.228181, -23292.821931, -23038.853181, -22989.321931,\n       -22873.993806, -22800.540681, -22627.915681, -22310.228181,...",
     "output_type": "error",
     "traceback": [
      "\u001b[0;31m---------------------------------------------------------------------------\u001b[0m",
      "\u001b[0;31mAssertionError\u001b[0m                            Traceback (most recent call last)",
      "\u001b[0;32m<ipython-input-23-da6d8ab1e847>\u001b[0m in \u001b[0;36m<module>\u001b[0;34m\u001b[0m\n\u001b[0;32m----> 1\u001b[0;31m \u001b[0mnp\u001b[0m\u001b[0;34m.\u001b[0m\u001b[0mtesting\u001b[0m\u001b[0;34m.\u001b[0m\u001b[0massert_array_almost_equal\u001b[0m\u001b[0;34m(\u001b[0m\u001b[0mcsv\u001b[0m\u001b[0;34m[\u001b[0m\u001b[0;34m'Potential_Energy_kJmole'\u001b[0m\u001b[0;34m]\u001b[0m\u001b[0;34m,\u001b[0m \u001b[0mpotential_energy_gromacs\u001b[0m\u001b[0;34m)\u001b[0m\u001b[0;34m\u001b[0m\u001b[0;34m\u001b[0m\u001b[0m\n\u001b[0m",
      "\u001b[0;32m~/anaconda3/envs/OPS/lib/python3.6/site-packages/numpy/testing/utils.py\u001b[0m in \u001b[0;36massert_array_almost_equal\u001b[0;34m(x, y, decimal, err_msg, verbose)\u001b[0m\n\u001b[1;32m    977\u001b[0m     assert_array_compare(compare, x, y, err_msg=err_msg, verbose=verbose,\n\u001b[1;32m    978\u001b[0m              \u001b[0mheader\u001b[0m\u001b[0;34m=\u001b[0m\u001b[0;34m(\u001b[0m\u001b[0;34m'Arrays are not almost equal to %d decimals'\u001b[0m \u001b[0;34m%\u001b[0m \u001b[0mdecimal\u001b[0m\u001b[0;34m)\u001b[0m\u001b[0;34m,\u001b[0m\u001b[0;34m\u001b[0m\u001b[0;34m\u001b[0m\u001b[0m\n\u001b[0;32m--> 979\u001b[0;31m              precision=decimal)\n\u001b[0m\u001b[1;32m    980\u001b[0m \u001b[0;34m\u001b[0m\u001b[0m\n\u001b[1;32m    981\u001b[0m \u001b[0;34m\u001b[0m\u001b[0m\n",
      "\u001b[0;32m~/anaconda3/envs/OPS/lib/python3.6/site-packages/numpy/testing/utils.py\u001b[0m in \u001b[0;36massert_array_compare\u001b[0;34m(comparison, x, y, err_msg, verbose, header, precision, equal_nan)\u001b[0m\n\u001b[1;32m    794\u001b[0m                                 names=('x', 'y'), precision=precision)\n\u001b[1;32m    795\u001b[0m             \u001b[0;32mif\u001b[0m \u001b[0;32mnot\u001b[0m \u001b[0mcond\u001b[0m\u001b[0;34m:\u001b[0m\u001b[0;34m\u001b[0m\u001b[0;34m\u001b[0m\u001b[0m\n\u001b[0;32m--> 796\u001b[0;31m                 \u001b[0;32mraise\u001b[0m \u001b[0mAssertionError\u001b[0m\u001b[0;34m(\u001b[0m\u001b[0mmsg\u001b[0m\u001b[0;34m)\u001b[0m\u001b[0;34m\u001b[0m\u001b[0;34m\u001b[0m\u001b[0m\n\u001b[0m\u001b[1;32m    797\u001b[0m     \u001b[0;32mexcept\u001b[0m \u001b[0mValueError\u001b[0m\u001b[0;34m:\u001b[0m\u001b[0;34m\u001b[0m\u001b[0;34m\u001b[0m\u001b[0m\n\u001b[1;32m    798\u001b[0m         \u001b[0;32mimport\u001b[0m \u001b[0mtraceback\u001b[0m\u001b[0;34m\u001b[0m\u001b[0;34m\u001b[0m\u001b[0m\n",
      "\u001b[0;31mAssertionError\u001b[0m: \nArrays are not almost equal to 6 decimals\n\n(mismatch 100.0%)\n x: array([-24632.105963, -24336.53565 , -24083.53565 , -23768.293463,\n       -23531.5044  , -23291.09815 , -23037.113775, -22987.590338,\n       -22872.277838, -22798.824713, -22626.184088, -22308.520025,...\n y: array([-24633.84823 , -24338.259431, -24085.243806, -23770.025056,\n       -23533.228181, -23292.821931, -23038.853181, -22989.321931,\n       -22873.993806, -22800.540681, -22627.915681, -22310.228181,..."
     ]
    }
   ],
   "source": [
    "np.testing.assert_array_almost_equal(csv['Potential_Energy_kJmole'], potential_energy_gromacs)"
   ]
  },
  {
   "cell_type": "markdown",
   "metadata": {
    "slideshow": {
     "slide_type": "subslide"
    }
   },
   "source": [
    "There are still small differences !\n",
    "\n",
    "Both have parameters converted from AMBER.\n",
    "\n",
    "Different precision in saved parameters:\n",
    "* OpenMM : `amber96.xml` -> sigma = `.12f`\n",
    "* GROMACS : `amber96.ff` -> sigma = `.5e`\n",
    "\n",
    "Maybe also other differences ... Who knows what people did?"
   ]
  }
 ],
 "metadata": {
  "celltoolbar": "Slideshow",
  "kernelspec": {
   "display_name": "Python 3",
   "language": "python",
   "name": "python3"
  },
  "language_info": {
   "codemirror_mode": {
    "name": "ipython",
    "version": 3
   },
   "file_extension": ".py",
   "mimetype": "text/x-python",
   "name": "python",
   "nbconvert_exporter": "python",
   "pygments_lexer": "ipython3",
   "version": "3.6.7"
  },
  "toc": {
   "base_numbering": 1,
   "nav_menu": {},
   "number_sections": true,
   "sideBar": true,
   "skip_h1_title": false,
   "title_cell": "Table of Contents",
   "title_sidebar": "Contents",
   "toc_cell": false,
   "toc_position": {},
   "toc_section_display": true,
   "toc_window_display": false
  }
 },
 "nbformat": 4,
 "nbformat_minor": 2
}
