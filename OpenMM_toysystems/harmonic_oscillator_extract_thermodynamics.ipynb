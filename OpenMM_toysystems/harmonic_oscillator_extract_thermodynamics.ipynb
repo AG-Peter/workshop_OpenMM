{
 "cells": [
  {
   "cell_type": "markdown",
   "metadata": {},
   "source": [
    "# Info\n",
    "\n",
    "In this notebook we use a predefined test system and show how we can extract thermodynamic informations from OpenMM.\n",
    "\n",
    "The test system of choice is a diatom argon.\n",
    "\n",
    "## Targets\n",
    "* learn how to use `openmmtools.testsystems.Diatom`\n",
    "* learn how to extract different properties during a simulation run\n",
    "* learn how to calculate the `temperature` and the `kinetic energy` by your self\n",
    "\n",
    "## OpenMMTools : Test systems\n",
    "\n",
    "a full overview about all test systems is given in : \n",
    "* https://openmmtools.readthedocs.io/en/0.17.0/testsystems.html"
   ]
  },
  {
   "cell_type": "code",
   "execution_count": null,
   "metadata": {
    "ExecuteTime": {
     "end_time": "2019-03-14T14:09:48.645983Z",
     "start_time": "2019-03-14T14:09:47.341004Z"
    }
   },
   "outputs": [],
   "source": [
    "import simtk.openmm.app as app\n",
    "import simtk.openmm as mm\n",
    "from simtk.unit import *\n",
    "\n",
    "import openmmtools\n",
    "\n",
    "import matplotlib.pyplot as plt\n",
    "import numpy as np\n",
    "\n",
    "from copy import deepcopy"
   ]
  },
  {
   "cell_type": "markdown",
   "metadata": {},
   "source": [
    "## Diatom\n",
    "Create a free diatomic molecule with a single harmonic bond between the two atoms.\n",
    "\n",
    "\n",
    "> The natural period of a harmonic oscillator is T = sqrt(m/K), so you will want to use an integration timestep smaller than ~ T/10."
   ]
  },
  {
   "cell_type": "markdown",
   "metadata": {},
   "source": [
    "Define parameters for a di-argon system."
   ]
  },
  {
   "cell_type": "code",
   "execution_count": null,
   "metadata": {
    "ExecuteTime": {
     "end_time": "2019-03-14T14:09:48.649770Z",
     "start_time": "2019-03-14T14:09:48.647384Z"
    }
   },
   "outputs": [],
   "source": [
    "K = 290.1 * kilocalorie / (angstrom**2 * mole)\n",
    "r0 = 1.55 * angstrom\n",
    "\n",
    "m1 = 39.948 * dalton\n",
    "m2 = 39.948 * dalton"
   ]
  },
  {
   "cell_type": "markdown",
   "metadata": {},
   "source": [
    "Estimate the required time step."
   ]
  },
  {
   "cell_type": "code",
   "execution_count": null,
   "metadata": {
    "ExecuteTime": {
     "end_time": "2019-03-14T14:09:48.691482Z",
     "start_time": "2019-03-14T14:09:48.650990Z"
    }
   },
   "outputs": [],
   "source": [
    "mu =  (m1*m2)/(m1+m2) # reduced mass\n",
    "T = sqrt(mu / K)\n",
    "print(\"T    : {}\".format(T.in_units_of(femtosecond)))\n",
    "print(\"T/10 : {}\".format(T.in_units_of(femtosecond)/10))"
   ]
  },
  {
   "cell_type": "markdown",
   "metadata": {},
   "source": [
    "Create the diatom system"
   ]
  },
  {
   "cell_type": "code",
   "execution_count": null,
   "metadata": {
    "ExecuteTime": {
     "end_time": "2019-03-14T14:09:48.724779Z",
     "start_time": "2019-03-14T14:09:48.698533Z"
    }
   },
   "outputs": [],
   "source": [
    "diatom = openmmtools.testsystems.Diatom(K=K, r0=r0, m1=m1, m2=m2)"
   ]
  },
  {
   "cell_type": "markdown",
   "metadata": {},
   "source": [
    "Create a simulation object."
   ]
  },
  {
   "cell_type": "code",
   "execution_count": null,
   "metadata": {
    "ExecuteTime": {
     "end_time": "2019-03-14T14:09:48.902251Z",
     "start_time": "2019-03-14T14:09:48.727791Z"
    }
   },
   "outputs": [],
   "source": [
    "integrator = mm.VerletIntegrator(1 * femtosecond)\n",
    "\n",
    "simulation = app.Simulation(topology=diatom.topology,\n",
    "                            system=diatom.system,\n",
    "                            integrator=integrator)\n",
    "simulation.context.setPositions(diatom.positions)\n",
    "simulation.context.setVelocitiesToTemperature(300*kelvin)"
   ]
  },
  {
   "cell_type": "markdown",
   "metadata": {},
   "source": [
    "Do a simulation of system by repeatedly simulating the system for a short period of time.\n",
    "\n",
    "After each period extract the desired values from the trajectory and store them into our list."
   ]
  },
  {
   "cell_type": "code",
   "execution_count": null,
   "metadata": {
    "ExecuteTime": {
     "end_time": "2019-03-14T14:09:50.105990Z",
     "start_time": "2019-03-14T14:09:48.908688Z"
    }
   },
   "outputs": [],
   "source": [
    "storage_harmonic_bond = {\n",
    "    'positions'        : Quantity([], unit=angstrom),\n",
    "    'velocities'       : Quantity([], unit=angstrom/femtosecond),\n",
    "    'forces'           : Quantity([], unit=kilocalorie/(angstrom*mole)),\n",
    "    'potential_energy' : Quantity([], unit=kilocalorie_per_mole),\n",
    "    'kinetic_energy'   : Quantity([], unit=kilocalorie_per_mole),\n",
    "}\n",
    "\n",
    "# define a state\n",
    "state = simulation.context.getState(getPositions=True, \n",
    "                                    getForces=True,\n",
    "                                    getVelocities=True,\n",
    "                                    getEnergy=True)\n",
    "\n",
    "# add the first frame\n",
    "storage_harmonic_bond['positions'].append(deepcopy( state.getPositions() ) )\n",
    "storage_harmonic_bond['velocities'].append(deepcopy( state.getVelocities() ) )\n",
    "storage_harmonic_bond['forces'].append(deepcopy( state.getForces() ))\n",
    "storage_harmonic_bond['potential_energy'].append(deepcopy( state.getPotentialEnergy() ))\n",
    "storage_harmonic_bond['kinetic_energy'].append(deepcopy( state.getKineticEnergy() ))\n",
    "\n",
    "# repeatedly simulate the system for a short period\n",
    "# extract the properties from the state\n",
    "for i in range(1000):\n",
    "    simulation.step(100)\n",
    "    \n",
    "    # define a state\n",
    "    state = simulation.context.getState(getPositions=True, \n",
    "                                        getForces=True,\n",
    "                                        getVelocities=True,\n",
    "                                        getEnergy=True)\n",
    "    \n",
    "    # update storage\n",
    "    storage_harmonic_bond['positions'].append(deepcopy( state.getPositions() ) )\n",
    "    storage_harmonic_bond['velocities'].append(deepcopy( state.getVelocities() ) )\n",
    "    storage_harmonic_bond['forces'].append(deepcopy( state.getForces() ))\n",
    "    storage_harmonic_bond['potential_energy'].append(deepcopy( state.getPotentialEnergy() ))\n",
    "    storage_harmonic_bond['kinetic_energy'].append(deepcopy( state.getKineticEnergy() ))"
   ]
  },
  {
   "cell_type": "markdown",
   "metadata": {},
   "source": [
    "## Analysis\n",
    "\n",
    "Let's analyze what we did."
   ]
  },
  {
   "cell_type": "markdown",
   "metadata": {},
   "source": [
    "## Potential energy as function of distance\n",
    "\n",
    "As first we want to plot the potential energy as function of distance between the atoms.\n",
    "\n",
    "Therefore, we first need to calculate the distance between the atoms as done in `get_bond_distance`."
   ]
  },
  {
   "cell_type": "code",
   "execution_count": null,
   "metadata": {
    "ExecuteTime": {
     "end_time": "2019-03-14T14:09:50.162619Z",
     "start_time": "2019-03-14T14:09:50.106940Z"
    }
   },
   "outputs": [],
   "source": [
    "def get_bond_distance(positions):\n",
    "    # get the bond distance\n",
    "    dx, dy, dz = positions[1] - positions[0]\n",
    "    distance = sqrt(dx**2 + dy**2 + dz**2)\n",
    "    return distance\n",
    "\n",
    "list_r0 = Quantity([ get_bond_distance(pos) for pos in storage_harmonic_bond['positions'] ])"
   ]
  },
  {
   "cell_type": "code",
   "execution_count": null,
   "metadata": {
    "ExecuteTime": {
     "end_time": "2019-03-14T14:09:50.443427Z",
     "start_time": "2019-03-14T14:09:50.163992Z"
    }
   },
   "outputs": [],
   "source": [
    "plt.title(\"Potential Energy\")\n",
    "plt.scatter(list_r0.value_in_unit(angstrom),\n",
    "            storage_harmonic_bond['potential_energy'].value_in_unit(kilocalorie_per_mole))\n",
    "\n",
    "plt.ylabel('Potential Energy [kcal/mole]')\n",
    "plt.xlabel(r'distance [$\\AA$]')"
   ]
  },
  {
   "cell_type": "markdown",
   "metadata": {},
   "source": [
    "## Calculate Temperature\n",
    "\n",
    "If we want to plot the temperature of the system, we have to calculate it as done in `calculate_temperature(kineticEnergy)`.\n",
    "\n",
    "As we need the degree of freedom for this calculation we can automatically calculate them with `get_dof(system)`."
   ]
  },
  {
   "cell_type": "code",
   "execution_count": null,
   "metadata": {
    "ExecuteTime": {
     "end_time": "2019-03-14T14:09:50.447959Z",
     "start_time": "2019-03-14T14:09:50.444761Z"
    }
   },
   "outputs": [],
   "source": [
    "def get_dof(system):\n",
    "    \"get the degree of freedom\"\n",
    "    dof = 0\n",
    "    for i in range(system.getNumParticles()):\n",
    "        if system.getParticleMass(i) > 0*dalton:\n",
    "            dof += 3\n",
    "    dof -= system.getNumConstraints()\n",
    "    if any(type(system.getForce(i)) == mm.CMMotionRemover for i in range(system.getNumForces())):\n",
    "        dof -= 3\n",
    "    return dof\n",
    "\n",
    "def calculate_temperature(kineticEnergy):\n",
    "    \"caclulates the temperature from the kinetic energy\"\n",
    "    temperature = (2*kineticEnergy/(dof*MOLAR_GAS_CONSTANT_R)).in_units_of(kelvin)\n",
    "    return temperature"
   ]
  },
  {
   "cell_type": "code",
   "execution_count": null,
   "metadata": {
    "ExecuteTime": {
     "end_time": "2019-03-14T14:09:50.554923Z",
     "start_time": "2019-03-14T14:09:50.448907Z"
    }
   },
   "outputs": [],
   "source": [
    "dof = get_dof(simulation.system)\n",
    "\n",
    "list_temperature = Quantity([ calculate_temperature(ke) for ke in storage_harmonic_bond['kinetic_energy'] ])"
   ]
  },
  {
   "cell_type": "code",
   "execution_count": null,
   "metadata": {
    "ExecuteTime": {
     "end_time": "2019-03-14T14:09:50.665292Z",
     "start_time": "2019-03-14T14:09:50.555861Z"
    }
   },
   "outputs": [],
   "source": [
    "plt.title('Temperature as function of time')\n",
    "\n",
    "plt.plot(list_temperature /kelvin)\n",
    "\n",
    "plt.xlabel('Time [100 fs]')\n",
    "plt.ylabel('Temperature [K]')"
   ]
  },
  {
   "cell_type": "markdown",
   "metadata": {},
   "source": [
    "## Calulcate kinetic energy\n",
    "\n",
    "We can also calculate the kinetic energy of the system instead of extracting it.\n",
    "\n",
    "Therefore, we need the velocities and masses of all atoms."
   ]
  },
  {
   "cell_type": "code",
   "execution_count": null,
   "metadata": {
    "ExecuteTime": {
     "end_time": "2019-03-14T14:09:50.669324Z",
     "start_time": "2019-03-14T14:09:50.666193Z"
    }
   },
   "outputs": [],
   "source": [
    "def get_masses(system):\n",
    "    \"get atom masses as list\"\n",
    "    masses = [system.getParticleMass(i)/dalton for i in range(system.getNumParticles())]\n",
    "    return Quantity(masses, unit=dalton)\n",
    "\n",
    "def calculate_kinetic_energy(velocities, masses):\n",
    "    \"calcualte the kinetic energy\"\n",
    "    ke = Quantity(0.0, unit=kilocalorie_per_mole)\n",
    "    for i, (vx, vy, vz) in enumerate(velocities):\n",
    "        v_magnitude = sqrt(vx**2 + vy**2 + vz**2)\n",
    "        ke += 0.5 * v_magnitude**2 * masses[i]\n",
    "    return ke"
   ]
  },
  {
   "cell_type": "code",
   "execution_count": null,
   "metadata": {
    "ExecuteTime": {
     "end_time": "2019-03-14T14:09:50.831284Z",
     "start_time": "2019-03-14T14:09:50.670178Z"
    }
   },
   "outputs": [],
   "source": [
    "masses = get_masses(simulation.system)\n",
    "\n",
    "list_kinetic_energy = Quantity([ calculate_kinetic_energy(vel, masses) \n",
    "                                for vel in storage_harmonic_bond['velocities'] ])\n"
   ]
  },
  {
   "cell_type": "markdown",
   "metadata": {},
   "source": [
    "Let's compare it with the kinetic energy extracted from the system."
   ]
  },
  {
   "cell_type": "code",
   "execution_count": null,
   "metadata": {
    "ExecuteTime": {
     "end_time": "2019-03-14T14:09:50.966722Z",
     "start_time": "2019-03-14T14:09:50.832170Z"
    }
   },
   "outputs": [],
   "source": [
    "plt.title(\"Kinetic energy as function of time\")\n",
    "plt.plot(list_kinetic_energy /kilocalorie_per_mole)\n",
    "plt.plot(storage_harmonic_bond['kinetic_energy'] /kilocalorie_per_mole)\n",
    "\n",
    "plt.xlabel('Time [100 fs]')\n",
    "plt.ylabel('Kinetic energy  [Kcal/mole]')"
   ]
  },
  {
   "cell_type": "markdown",
   "metadata": {},
   "source": [
    "They seem to fit good but there is a slight of set, let's have a look into this and plot the difference between the extracted and calculated energy."
   ]
  },
  {
   "cell_type": "code",
   "execution_count": null,
   "metadata": {
    "ExecuteTime": {
     "end_time": "2019-03-14T14:09:51.090814Z",
     "start_time": "2019-03-14T14:09:50.967666Z"
    }
   },
   "outputs": [],
   "source": [
    "difference_energy = np.array(list_kinetic_energy /kilocalorie_per_mole)\n",
    "difference_energy-= np.array(storage_harmonic_bond['kinetic_energy'] /kilocalorie_per_mole)\n",
    "\n",
    "plt.title('difference in kinetic energy\\n(calculated vs extracted)')\n",
    "\n",
    "plt.plot(difference_energy)\n",
    "\n",
    "plt.xlabel('Time [100 fs]')\n",
    "plt.ylabel('Kinetic energy  [Kcal/mole]')"
   ]
  },
  {
   "cell_type": "markdown",
   "metadata": {},
   "source": [
    "The reason behind this could be that we only have the velocities of a full time step, while OpenMM gets the kinetic energy from the half-time step.\n",
    "\n",
    "We can can test this by redo the experiment and use a velocity-verlet integrator this time instead of a leap-frog.\n",
    "This means we should now get the full-time step kinetic energy from OpenMM."
   ]
  },
  {
   "cell_type": "markdown",
   "metadata": {
    "ExecuteTime": {
     "end_time": "2019-03-12T17:41:36.076500Z",
     "start_time": "2019-03-12T17:41:36.059330Z"
    }
   },
   "source": [
    "### Leap-frog vs Verlocity-Verlet\n",
    "\n",
    "Let's redo the whole procedure but this time with a velocity-verlet integrator."
   ]
  },
  {
   "cell_type": "code",
   "execution_count": null,
   "metadata": {
    "ExecuteTime": {
     "end_time": "2019-03-14T14:09:51.194744Z",
     "start_time": "2019-03-14T14:09:51.091755Z"
    }
   },
   "outputs": [],
   "source": [
    "diatom = openmmtools.testsystems.Diatom(K=K, r0=r0, m1=m1, m2=m2)\n",
    "# NOW use a VelocityVerletIntegrator\n",
    "integrator = openmmtools.integrators.VelocityVerletIntegrator(1 * femtosecond)\n",
    "\n",
    "sim_vv = app.Simulation(topology=diatom.topology,\n",
    "                            system=diatom.system,\n",
    "                            integrator=integrator)\n",
    "sim_vv.context.setPositions(diatom.positions)\n",
    "sim_vv.context.setVelocitiesToTemperature(300*kelvin)"
   ]
  },
  {
   "cell_type": "code",
   "execution_count": null,
   "metadata": {
    "ExecuteTime": {
     "end_time": "2019-03-14T14:09:52.816803Z",
     "start_time": "2019-03-14T14:09:51.196125Z"
    }
   },
   "outputs": [],
   "source": [
    "storage_harmonic_bond_vv = {\n",
    "    'positions'        : Quantity([], unit=angstrom),\n",
    "    'velocities'       : Quantity([], unit=angstrom/femtosecond),\n",
    "    'forces'           : Quantity([], unit=kilocalorie/(angstrom*mole)),\n",
    "    'potential_energy' : Quantity([], unit=kilocalorie_per_mole),\n",
    "    'kinetic_energy'   : Quantity([], unit=kilocalorie_per_mole),\n",
    "}\n",
    "\n",
    "# define a state\n",
    "state = sim_vv.context.getState(getPositions=True, \n",
    "                                    getForces=True,\n",
    "                                    getVelocities=True,\n",
    "                                    getEnergy=True)\n",
    "\n",
    "# add the first frame\n",
    "storage_harmonic_bond_vv['positions'].append(deepcopy( state.getPositions() ) )\n",
    "storage_harmonic_bond_vv['velocities'].append(deepcopy( state.getVelocities() ) )\n",
    "storage_harmonic_bond_vv['forces'].append(deepcopy( state.getForces() ))\n",
    "storage_harmonic_bond_vv['potential_energy'].append(deepcopy( state.getPotentialEnergy() ))\n",
    "storage_harmonic_bond_vv['kinetic_energy'].append(deepcopy( state.getKineticEnergy() ))\n",
    "\n",
    "# repeatedly simulate the system for a short period\n",
    "# extract the properties from the state\n",
    "for i in range(1000):\n",
    "    sim_vv.step(100)\n",
    "    \n",
    "    # define a state\n",
    "    state = sim_vv.context.getState(getPositions=True, \n",
    "                                        getForces=True,\n",
    "                                        getVelocities=True,\n",
    "                                        getEnergy=True)\n",
    "    \n",
    "    # update storage\n",
    "    storage_harmonic_bond_vv['positions'].append(deepcopy( state.getPositions() ) )\n",
    "    storage_harmonic_bond_vv['velocities'].append(deepcopy( state.getVelocities() ) )\n",
    "    storage_harmonic_bond_vv['forces'].append(deepcopy( state.getForces() ))\n",
    "    storage_harmonic_bond_vv['potential_energy'].append(deepcopy( state.getPotentialEnergy() ))\n",
    "    storage_harmonic_bond_vv['kinetic_energy'].append(deepcopy( state.getKineticEnergy() ))"
   ]
  },
  {
   "cell_type": "markdown",
   "metadata": {},
   "source": [
    "Let's calculate the kinetic energy again."
   ]
  },
  {
   "cell_type": "code",
   "execution_count": null,
   "metadata": {
    "ExecuteTime": {
     "end_time": "2019-03-14T14:09:52.952709Z",
     "start_time": "2019-03-14T14:09:52.818171Z"
    }
   },
   "outputs": [],
   "source": [
    "masses = get_masses(sim_vv.system)\n",
    "\n",
    "list_kinetic_energy = Quantity([ calculate_kinetic_energy(vel, masses) \n",
    "                                for vel in storage_harmonic_bond_vv['velocities'] ])\n"
   ]
  },
  {
   "cell_type": "markdown",
   "metadata": {},
   "source": [
    "And compute the difference in kinetic energy between the calculated and the one extracted directly from OpenMM when using the velocity-verlet integrator."
   ]
  },
  {
   "cell_type": "code",
   "execution_count": null,
   "metadata": {
    "ExecuteTime": {
     "end_time": "2019-03-14T14:09:53.076422Z",
     "start_time": "2019-03-14T14:09:52.953600Z"
    }
   },
   "outputs": [],
   "source": [
    "difference_energy = np.array(list_kinetic_energy /kilocalorie_per_mole)\n",
    "difference_energy-= np.array(storage_harmonic_bond_vv['kinetic_energy'] /kilocalorie_per_mole)\n",
    "\n",
    "plt.title('difference in kinetic energy\\n(calculated vs extracted)')\n",
    "\n",
    "plt.plot(difference_energy)\n",
    "\n",
    "plt.xlabel('Time [100 fs]')\n",
    "plt.ylabel('Kinetic energy  [Kcal/mole]')"
   ]
  },
  {
   "cell_type": "markdown",
   "metadata": {},
   "source": [
    "Now the difference is in the range of single precision floating point errors."
   ]
  }
 ],
 "metadata": {
  "kernelspec": {
   "display_name": "Python 3",
   "language": "python",
   "name": "python3"
  },
  "language_info": {
   "codemirror_mode": {
    "name": "ipython",
    "version": 3
   },
   "file_extension": ".py",
   "mimetype": "text/x-python",
   "name": "python",
   "nbconvert_exporter": "python",
   "pygments_lexer": "ipython3",
   "version": "3.6.7"
  },
  "toc": {
   "base_numbering": 1,
   "nav_menu": {},
   "number_sections": true,
   "sideBar": true,
   "skip_h1_title": false,
   "title_cell": "Table of Contents",
   "title_sidebar": "Contents",
   "toc_cell": false,
   "toc_position": {},
   "toc_section_display": true,
   "toc_window_display": false
  }
 },
 "nbformat": 4,
 "nbformat_minor": 2
}
