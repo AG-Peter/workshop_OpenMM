{
 "cells": [
  {
   "cell_type": "markdown",
   "metadata": {
    "slideshow": {
     "slide_type": "slide"
    }
   },
   "source": [
    "# OpenMM Introduction\n",
    "\n",
    "## User Guide\n",
    "* [OpenMM Users Manual and Theory Guide](http://docs.openmm.org/latest/userguide/index.html) <br>\n",
    "    The place where you should look first! Good Explanations!\n",
    "    * Theory: [Standard Forces](http://docs.openmm.org/latest/userguide/theory.html#standard-forces) <br>\n",
    "        If you want to know the formulas of the used forces.\n",
    "* [OpenMM Python API](http://docs.openmm.org/latest/api-python/index.html) <br>\n",
    "    Only the python interface\n",
    "    \n",
    "## additional tools\n",
    "* [OpenMMTools](https://openmmtools.readthedocs.io/en/0.17.0/) <br>\n",
    "    A lot of additional implementations\n",
    "* [ParmEd](https://parmed.github.io/ParmEd/html/index.html) <br>\n",
    "    general tool for aiding in investigations of biomolecular systems\n",
    "* [choderalab/openmm-forcefields](https://github.com/choderalab/openmm-forcefields) <br>\n",
    "Conversion tools for and repository of CHARMM and AMBER forcefields for OpenMM.\n",
    "\n"
   ]
  },
  {
   "cell_type": "markdown",
   "metadata": {
    "slideshow": {
     "slide_type": "slide"
    }
   },
   "source": [
    "# How is OpenMM structured?\n",
    "\n",
    "* Layered structure\n",
    "    * Public Interface ( **OpenMM Public API** )  <span style='color:red'>**<- thats where we work**</span>\n",
    "    * Platform Interdependent Code ( OpenMM Implementation Layer )\n",
    "    * Platform Abstraction Layer ( OpenMM Low Level API )\n",
    "    * Computational Kernels ( OpenCL/CUDA/MPI/etc. )"
   ]
  },
  {
   "cell_type": "markdown",
   "metadata": {
    "slideshow": {
     "slide_type": "fragment"
    }
   },
   "source": [
    "## OpenMM Public API ?"
   ]
  },
  {
   "cell_type": "markdown",
   "metadata": {
    "slideshow": {
     "slide_type": "fragment"
    }
   },
   "source": [
    "* Python or C interface to control OpenMM\n",
    "* Script like language\n",
    "    * requires to build the simulation from single components"
   ]
  },
  {
   "cell_type": "markdown",
   "metadata": {
    "slideshow": {
     "slide_type": "subslide"
    }
   },
   "source": [
    "## The General ClassDiagram in OpenMM\n",
    "![ClassDiagram](img/ClassDiagram.png)\n",
    "Just an overview how everything is connected"
   ]
  },
  {
   "cell_type": "markdown",
   "metadata": {
    "slideshow": {
     "slide_type": "subslide"
    }
   },
   "source": [
    "## Let's focus on the crucial elements\n",
    "\n",
    "![crucial_parts](img/crucial_elements.png)"
   ]
  },
  {
   "cell_type": "markdown",
   "metadata": {
    "slideshow": {
     "slide_type": "slide"
    }
   },
   "source": [
    "# System"
   ]
  },
  {
   "cell_type": "markdown",
   "metadata": {
    "slideshow": {
     "slide_type": "fragment"
    }
   },
   "source": [
    "## What's a system ?\n",
    "\n",
    "![system](img/system.png)"
   ]
  },
  {
   "cell_type": "markdown",
   "metadata": {
    "slideshow": {
     "slide_type": "subslide"
    }
   },
   "source": [
    "## Forces\n",
    "In a broader sense: `ALL interactions`\n",
    "    \n",
    "* non-bonded forces\n",
    "* bonded forces\n",
    "* constraints\n",
    "* ANY kind of user defined `CustomForces`\n",
    "* <span style='color:red'>thermostat and barostat </span>"
   ]
  },
  {
   "cell_type": "markdown",
   "metadata": {
    "slideshow": {
     "slide_type": "subslide"
    }
   },
   "source": [
    "### How does this actually look like? "
   ]
  },
  {
   "cell_type": "code",
   "execution_count": 1,
   "metadata": {
    "ExecuteTime": {
     "end_time": "2019-03-07T17:33:40.944742Z",
     "start_time": "2019-03-07T17:33:40.749534Z"
    },
    "slideshow": {
     "slide_type": "fragment"
    }
   },
   "outputs": [],
   "source": [
    "# Let's import everything\n",
    "from simtk.openmm.app import *\n",
    "from simtk.openmm import *\n",
    "from simtk.unit import *"
   ]
  },
  {
   "cell_type": "code",
   "execution_count": 2,
   "metadata": {
    "ExecuteTime": {
     "end_time": "2019-03-07T17:33:41.041710Z",
     "start_time": "2019-03-07T17:33:40.945734Z"
    },
    "slideshow": {
     "slide_type": "fragment"
    }
   },
   "outputs": [],
   "source": [
    "# read the pdb file\n",
    "pdb = PDBFile('spce.pdb')"
   ]
  },
  {
   "cell_type": "code",
   "execution_count": 3,
   "metadata": {
    "ExecuteTime": {
     "end_time": "2019-03-07T17:33:41.044999Z",
     "start_time": "2019-03-07T17:33:41.042869Z"
    },
    "slideshow": {
     "slide_type": "fragment"
    }
   },
   "outputs": [],
   "source": [
    "# read the force field file\n",
    "forcefield = ForceField('spce.xml')"
   ]
  },
  {
   "cell_type": "markdown",
   "metadata": {
    "slideshow": {
     "slide_type": "subslide"
    }
   },
   "source": [
    "**How does this force field file looks like ?**\n",
    "```xml\n",
    "<ForceField>\n",
    " <AtomTypes>\n",
    "  <Type name=\"spce-O\" class=\"OW\" element=\"O\" mass=\"15.99943\"/>\n",
    "  <Type name=\"spce-H\" class=\"HW\" element=\"H\" mass=\"1.007947\"/>\n",
    " </AtomTypes>\n",
    " <Residues>\n",
    "  <Residue name=\"HOH\">\n",
    "   <Atom name=\"O\" type=\"spce-O\"/>\n",
    "   <Atom name=\"H1\" type=\"spce-H\"/>\n",
    "   <Atom name=\"H2\" type=\"spce-H\"/>\n",
    "   <Bond atomName1=\"O\" atomName2=\"H1\"/>\n",
    "   <Bond atomName1=\"O\" atomName2=\"H2\"/>\n",
    "  </Residue>\n",
    " </Residues>\n",
    " <HarmonicBondForce>\n",
    "  <Bond class1=\"OW\" class2=\"HW\" length=\"0.1\" k=\"462750.4\"/>\n",
    " </HarmonicBondForce>\n",
    " <HarmonicAngleForce>\n",
    "  <Angle class1=\"HW\" class2=\"OW\" class3=\"HW\" angle=\"1.91061193216\" k=\"836.8\"/>\n",
    " </HarmonicAngleForce>\n",
    " <NonbondedForce coulomb14scale=\"0.833333\" lj14scale=\"0.5\">\n",
    "  <Atom type=\"spce-O\" charge=\"-0.8476\" sigma=\"0.31657195050398818\" epsilon=\"0.6497752\"/>\n",
    "  <Atom type=\"spce-H\" charge=\"0.4238\" sigma=\"1\" epsilon=\"0\"/>\n",
    " </NonbondedForce>\n",
    "</ForceField>\n",
    "```"
   ]
  },
  {
   "cell_type": "markdown",
   "metadata": {
    "slideshow": {
     "slide_type": "subslide"
    }
   },
   "source": [
    "create the system"
   ]
  },
  {
   "cell_type": "code",
   "execution_count": 4,
   "metadata": {
    "ExecuteTime": {
     "end_time": "2019-03-07T17:33:41.105763Z",
     "start_time": "2019-03-07T17:33:41.046050Z"
    },
    "slideshow": {
     "slide_type": "fragment"
    }
   },
   "outputs": [],
   "source": [
    "system = forcefield.createSystem(pdb.topology, \n",
    "                                 nonbondedMethod=PME,\n",
    "                                 nonbondedCutoff=1*nanometer,\n",
    "                                 constraints=HAngles)"
   ]
  },
  {
   "cell_type": "markdown",
   "metadata": {
    "slideshow": {
     "slide_type": "fragment"
    }
   },
   "source": [
    "**constraints**\n",
    "\n",
    "|Value|Meaning|\n",
    "|-----|-------|\n",
    "| None\t| No constraints are applied. This is the default value. |\n",
    "| HBonds\t| The lengths of all bonds that involve a hydrogen atom are constrained. |\n",
    "| AllBonds\t| The lengths of all bonds are constrained. |\n",
    "| HAngles\t| The lengths of all bonds are constrained. In addition, all angles of the form H-X-H or H-O-X (where X is an arbitrary atom) are constrained. |\n"
   ]
  },
  {
   "cell_type": "markdown",
   "metadata": {
    "ExecuteTime": {
     "end_time": "2019-03-07T14:04:57.314908Z",
     "start_time": "2019-03-07T14:04:57.312245Z"
    },
    "slideshow": {
     "slide_type": "slide"
    }
   },
   "source": [
    "# Integrator\n",
    "\n",
    "\"Just\" a integrator. Some integrators also can adjust temperatures and work as thermostat simultaneously."
   ]
  },
  {
   "cell_type": "code",
   "execution_count": 5,
   "metadata": {
    "ExecuteTime": {
     "end_time": "2019-03-07T17:33:41.109035Z",
     "start_time": "2019-03-07T17:33:41.106686Z"
    },
    "slideshow": {
     "slide_type": "fragment"
    }
   },
   "outputs": [],
   "source": [
    "# LangevinIntegrator(temperature,  friction coefficient, step size)\n",
    "integrator = LangevinIntegrator(300*kelvin, 1/picosecond,0.002*picoseconds)"
   ]
  },
  {
   "cell_type": "markdown",
   "metadata": {
    "slideshow": {
     "slide_type": "fragment"
    }
   },
   "source": [
    "## Example for adding a `integrator` + `thermostat`\n",
    "\n",
    "```python\n",
    "system.addForce(AndersenThermostat(300*kelvin, 1/picosecond))\n",
    "integrator = VerletIntegrator(0.002*picoseconds)\n",
    "```\n",
    "\n",
    "a `thermostat` is a `Force` so it belongs to the `system`"
   ]
  },
  {
   "cell_type": "markdown",
   "metadata": {
    "slideshow": {
     "slide_type": "fragment"
    }
   },
   "source": [
    "## Example for adding a barostat\n",
    "\n",
    "```python\n",
    "system.addForce(MonteCarloBarostat(1*bar, 300*kelvin))\n",
    "integrator = LangevinIntegrator(300*kelvin, 1/picosecond, 0.002*picoseconds)\n",
    "```\n",
    "<p style='color:red; font-weight:bold'>Only MonteCarloBarostat available!</p>"
   ]
  },
  {
   "cell_type": "markdown",
   "metadata": {
    "slideshow": {
     "slide_type": "slide"
    }
   },
   "source": [
    "# Simulations\n",
    "![simulation](img/simulation.png)"
   ]
  },
  {
   "cell_type": "markdown",
   "metadata": {
    "slideshow": {
     "slide_type": "subslide"
    }
   },
   "source": [
    "Let's create a simulation"
   ]
  },
  {
   "cell_type": "code",
   "execution_count": 6,
   "metadata": {
    "ExecuteTime": {
     "end_time": "2019-03-07T17:33:41.387240Z",
     "start_time": "2019-03-07T17:33:41.109916Z"
    },
    "slideshow": {
     "slide_type": "fragment"
    }
   },
   "outputs": [],
   "source": [
    "simulation = Simulation(pdb.topology, system, integrator)"
   ]
  },
  {
   "cell_type": "code",
   "execution_count": 7,
   "metadata": {
    "ExecuteTime": {
     "end_time": "2019-03-07T17:33:41.401884Z",
     "start_time": "2019-03-07T17:33:41.388591Z"
    },
    "slideshow": {
     "slide_type": "fragment"
    }
   },
   "outputs": [],
   "source": [
    "# set positions\n",
    "simulation.context.setPositions(pdb.positions)"
   ]
  },
  {
   "cell_type": "markdown",
   "metadata": {
    "slideshow": {
     "slide_type": "slide"
    }
   },
   "source": [
    "# Recap\n",
    "## What did we do till now?\n",
    "\n",
    "\n",
    "```python\n",
    "# Let's import everything\n",
    "from simtk.openmm.app import *\n",
    "from simtk.openmm import *\n",
    "from simtk.unit import *\n",
    "\n",
    "# read the pdb file\n",
    "pdb = PDBFile('spce.pdb')\n",
    "\n",
    "# read the force field file\n",
    "forcefield = ForceField('spce.xml')\n",
    "\n",
    "# define a integrator (with integrated thermostat)\n",
    "integrator = LangevinIntegrator(300*kelvin, 1/picosecond,0.002*picoseconds)\n",
    "\n",
    "# create a simulation\n",
    "simulation = Simulation(pdb.topology, system, integrator)\n",
    "\n",
    "# set positions\n",
    "simulation.context.setPositions(pdb.positions)\n",
    "```"
   ]
  },
  {
   "cell_type": "markdown",
   "metadata": {
    "slideshow": {
     "slide_type": "subslide"
    }
   },
   "source": [
    "## What did we got?\n",
    "\n",
    "![simulation_context](img/simulation_context.png)"
   ]
  },
  {
   "cell_type": "markdown",
   "metadata": {
    "slideshow": {
     "slide_type": "subslide"
    }
   },
   "source": [
    "# Reporters"
   ]
  },
  {
   "cell_type": "code",
   "execution_count": 8,
   "metadata": {
    "ExecuteTime": {
     "end_time": "2019-03-07T17:33:41.413428Z",
     "start_time": "2019-03-07T17:33:41.403247Z"
    },
    "slideshow": {
     "slide_type": "fragment"
    }
   },
   "outputs": [],
   "source": [
    "# report thermodynamical properties\n",
    "simulation.reporters.append(StateDataReporter('thermo.csv', 1000,\n",
    "                                              step=True, potentialEnergy=True, temperature=True))"
   ]
  },
  {
   "cell_type": "code",
   "execution_count": 9,
   "metadata": {
    "ExecuteTime": {
     "end_time": "2019-03-07T17:33:41.422561Z",
     "start_time": "2019-03-07T17:33:41.415087Z"
    },
    "slideshow": {
     "slide_type": "fragment"
    }
   },
   "outputs": [],
   "source": [
    "# report positions\n",
    "simulation.reporters.append(DCDReporter('trajectory.dcd', 1000))"
   ]
  },
  {
   "cell_type": "markdown",
   "metadata": {
    "slideshow": {
     "slide_type": "subslide"
    }
   },
   "source": [
    "## Overview reporters\n",
    "\n",
    "<div style='width:100%; float:left'>\n",
    "    <div style='width:49%; float:left'>\n",
    "        <h5>OpenMM</h5>\n",
    "        <ul>\n",
    "            <li> CheckpointReporter </li>         \n",
    "            <li> DCDReporter </li>\n",
    "            <li> PDBReporter </li>\n",
    "            <li> PDBxReporter </li>\n",
    "            <li> StateDataReporter</li>\n",
    "        </ul>\n",
    "    </div>\n",
    "    <div style='width:49%; float:left'>\n",
    "        <h5>MDTraj</h5>\n",
    "        <ul>\n",
    "            <li> HDF5Reporter </li>         \n",
    "            <li> NetCDFReporter </li>\n",
    "            <li> DCDReporter </li>\n",
    "        </ul>\n",
    "    </div>\n",
    "</div>\n",
    "\n",
    "<div style='width:100%; float:left'>\n",
    "    <div style='width:49%; float:left'>\n",
    "        <h5></h5>\n",
    "    </div>\n",
    "    <div style='width:49%; float:left'>\n",
    "        <h5>ParmED</h5>\n",
    "        <ul>\n",
    "            <li> StateDataReporter </li>         \n",
    "            <li> NetCDFReporter </li>\n",
    "            <li> MdcrdReporter </li>\n",
    "            <li> RestartReporter </li>\n",
    "            <li> ProgressReporter</li>\n",
    "        </ul>\n",
    "    </div>\n",
    "</div>\n"
   ]
  },
  {
   "cell_type": "markdown",
   "metadata": {
    "slideshow": {
     "slide_type": "slide"
    }
   },
   "source": [
    "# Energy mimization"
   ]
  },
  {
   "cell_type": "code",
   "execution_count": 10,
   "metadata": {
    "ExecuteTime": {
     "end_time": "2019-03-07T17:33:42.154480Z",
     "start_time": "2019-03-07T17:33:41.423841Z"
    },
    "slideshow": {
     "slide_type": "fragment"
    }
   },
   "outputs": [],
   "source": [
    "# simulation.minimizeEnergy(tolerance=10*kilojoule/mole, maxIterations=0)\n",
    "simulation.minimizeEnergy()"
   ]
  },
  {
   "cell_type": "markdown",
   "metadata": {
    "slideshow": {
     "slide_type": "slide"
    }
   },
   "source": [
    "# Do a simulation"
   ]
  },
  {
   "cell_type": "code",
   "execution_count": 11,
   "metadata": {
    "ExecuteTime": {
     "end_time": "2019-03-07T17:33:42.157373Z",
     "start_time": "2019-03-07T17:33:42.155404Z"
    },
    "slideshow": {
     "slide_type": "fragment"
    }
   },
   "outputs": [],
   "source": [
    "# Let's set some Velocities\n",
    "simulation.context.setVelocitiesToTemperature(300*kelvin)"
   ]
  },
  {
   "cell_type": "code",
   "execution_count": 12,
   "metadata": {
    "ExecuteTime": {
     "end_time": "2019-03-07T17:33:42.415969Z",
     "start_time": "2019-03-07T17:33:42.158208Z"
    },
    "slideshow": {
     "slide_type": "fragment"
    }
   },
   "outputs": [],
   "source": [
    "# Let's simulate\n",
    "simulation.step(1000)"
   ]
  },
  {
   "cell_type": "markdown",
   "metadata": {
    "slideshow": {
     "slide_type": "slide"
    }
   },
   "source": [
    "# The whole picture\n",
    "\n",
    "```python\n",
    "# Let's import everything\n",
    "from simtk.openmm.app import *\n",
    "from simtk.openmm import *\n",
    "from simtk.unit import *\n",
    "\n",
    "# read the pdb file\n",
    "pdb = PDBFile('spce.pdb')\n",
    "# read the force field file\n",
    "forcefield = ForceField('spce.xml')\n",
    "# define a integrator (with integrated thermostat)\n",
    "integrator = LangevinIntegrator(300*kelvin, 1/picosecond,0.002*picoseconds)\n",
    "# create a simulation\n",
    "simulation = Simulation(pdb.topology, system, integrator)\n",
    "# set positions\n",
    "simulation.context.setPositions(pdb.positions)\n",
    "# report thermodynamical properties\n",
    "simulation.reporters.append(StateDataReporter('thermo.csv', 1000, step=True, potentialEnergy=True, temperature=True))\n",
    "# report positions\n",
    "simulation.reporters.append(DCDReporter('trajectory.dcd', 1000))\n",
    "# minimize the system\n",
    "simulation.minimizeEnergy()\n",
    "# generate velocities\n",
    "simulation.context.setVelocitiesToTemperature(300*kelvin)\n",
    "# run the simulation\n",
    "simulation.step(1000)\n",
    "```"
   ]
  },
  {
   "cell_type": "markdown",
   "metadata": {
    "slideshow": {
     "slide_type": "slide"
    }
   },
   "source": [
    "# What did we skip?\n",
    "\n",
    "* modifying structures before we create a system\n",
    "* `Platforms`\n",
    "* getting data from the `simulation` object"
   ]
  },
  {
   "cell_type": "markdown",
   "metadata": {
    "slideshow": {
     "slide_type": "slide"
    }
   },
   "source": [
    "# Platforms\n",
    "\n",
    "* `Reference` <br>\n",
    "    clean user-readable code (not performance in mind)\n",
    "* `CPU` <br>\n",
    "    optimized CPU code (multithreaded - OpenMM)\n",
    "* `CUDA` <br>\n",
    "    Nvidia-GPU's\n",
    "* `OpenCL` <br>\n",
    "    variety of types of GPU's and CPU's\n",
    "    \n",
    "* <span style='color:red; font-weight:900'>no MPI</span>"
   ]
  },
  {
   "cell_type": "markdown",
   "metadata": {
    "slideshow": {
     "slide_type": "subslide"
    }
   },
   "source": [
    "## How to use a platform?"
   ]
  },
  {
   "cell_type": "code",
   "execution_count": 13,
   "metadata": {
    "ExecuteTime": {
     "end_time": "2019-03-07T17:33:42.564896Z",
     "start_time": "2019-03-07T17:33:42.416946Z"
    },
    "slideshow": {
     "slide_type": "skip"
    }
   },
   "outputs": [],
   "source": [
    "# Let's import everything\n",
    "from simtk.openmm.app import *\n",
    "from simtk.openmm import *\n",
    "from simtk.unit import *\n",
    "\n",
    "# read the pdb file\n",
    "pdb = PDBFile('spce.pdb')\n",
    "# read the force field file\n",
    "forcefield = ForceField('spce.xml')\n",
    "# define a integrator (with integrated thermostat)\n",
    "integrator = LangevinIntegrator(300*kelvin, 1/picosecond,0.002*picoseconds)"
   ]
  },
  {
   "cell_type": "code",
   "execution_count": 14,
   "metadata": {
    "ExecuteTime": {
     "end_time": "2019-03-07T17:33:42.790390Z",
     "start_time": "2019-03-07T17:33:42.565796Z"
    },
    "slideshow": {
     "slide_type": "fragment"
    }
   },
   "outputs": [],
   "source": [
    "platform = Platform.getPlatformByName('CUDA')\n",
    "simulation = Simulation(pdb.topology, system, integrator, platform)"
   ]
  },
  {
   "cell_type": "markdown",
   "metadata": {
    "ExecuteTime": {
     "end_time": "2019-03-07T16:31:34.794541Z",
     "start_time": "2019-03-07T16:31:34.779839Z"
    },
    "slideshow": {
     "slide_type": "fragment"
    }
   },
   "source": [
    "How to change properties of a platform?"
   ]
  },
  {
   "cell_type": "code",
   "execution_count": 15,
   "metadata": {
    "ExecuteTime": {
     "end_time": "2019-03-07T17:33:42.919805Z",
     "start_time": "2019-03-07T17:33:42.791533Z"
    },
    "slideshow": {
     "slide_type": "skip"
    }
   },
   "outputs": [],
   "source": [
    "# Let's import everything\n",
    "from simtk.openmm.app import *\n",
    "from simtk.openmm import *\n",
    "from simtk.unit import *\n",
    "\n",
    "# read the pdb file\n",
    "pdb = PDBFile('spce.pdb')\n",
    "# read the force field file\n",
    "forcefield = ForceField('spce.xml')\n",
    "# define a integrator (with integrated thermostat)\n",
    "integrator = LangevinIntegrator(300*kelvin, 1/picosecond,0.002*picoseconds)"
   ]
  },
  {
   "cell_type": "code",
   "execution_count": 16,
   "metadata": {
    "ExecuteTime": {
     "end_time": "2019-03-07T17:33:43.116694Z",
     "start_time": "2019-03-07T17:33:42.920724Z"
    },
    "slideshow": {
     "slide_type": "fragment"
    }
   },
   "outputs": [],
   "source": [
    "platform = Platform.getPlatformByName('CUDA')\n",
    "properties = {'DeviceIndex': '0,1', 'Precision': 'double'}\n",
    "simulation = Simulation(pdb.topology, system, integrator, platform)"
   ]
  },
  {
   "cell_type": "markdown",
   "metadata": {
    "slideshow": {
     "slide_type": "subslide"
    }
   },
   "source": [
    "## Precision aka Thing's one should stress\n",
    "\n",
    "\n",
    "![EnergyDrift](img/EnergyDrift.png)\n",
    "\n",
    "<p>\n",
    "<div style='color:red; font-weight:bold; font-size:large;'>ALLWAYS check your default options of your MD engine</div><p>"
   ]
  },
  {
   "cell_type": "code",
   "execution_count": null,
   "metadata": {
    "slideshow": {
     "slide_type": "skip"
    }
   },
   "outputs": [],
   "source": []
  }
 ],
 "metadata": {
  "celltoolbar": "Slideshow",
  "kernelspec": {
   "display_name": "Python 3",
   "language": "python",
   "name": "python3"
  },
  "language_info": {
   "codemirror_mode": {
    "name": "ipython",
    "version": 3
   },
   "file_extension": ".py",
   "mimetype": "text/x-python",
   "name": "python",
   "nbconvert_exporter": "python",
   "pygments_lexer": "ipython3",
   "version": "3.6.7"
  },
  "toc": {
   "base_numbering": 1,
   "nav_menu": {},
   "number_sections": true,
   "sideBar": true,
   "skip_h1_title": false,
   "title_cell": "Table of Contents",
   "title_sidebar": "Contents",
   "toc_cell": false,
   "toc_position": {},
   "toc_section_display": true,
   "toc_window_display": true
  }
 },
 "nbformat": 4,
 "nbformat_minor": 2
}
